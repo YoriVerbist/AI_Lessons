{
 "cells": [
  {
   "cell_type": "markdown",
   "metadata": {},
   "source": [
    "# Computer Vision\n",
    "\n",
    "Computer Vision is a field of artificial intelligence that trains computers to interpret and understand the visual world. In other words Computer Vision, often abbreviated as CV, is defined as a field of study that seeks to develop techniques to help computers *see* and understand the content of digital images such as photographs and videos.\n",
    "\n",
    "Computer vision has been around for more than 50 years, but recently, we see a major resurgence of interest in how machines *see* and how computer vision can be used to build products for consumers and businesses. A few examples: Amazon Go, Google Lens, Autonomous Vehicles, Face Recognition.\n",
    "\n",
    "## Cat or Dog?\n",
    "\n",
    "At the end of this lesson we will build a Convolutional Neural Network that will be trained on thousands of images of cats and dogs, and will be able to predict if the given image is of a cat or a dog. We will use the famous classical dogs vs cats dataset which refers to a dataset used for a Kaggle machine learning competition held in 2013. While our goal is very specific (cats vs dogs), our image classifier can detect anything that is tangible with an adequate dataset.\n",
    "\n",
    "__After completing this lesson about Computer Vision, you must definitely have a look at the task of the third module about Deep Learning, namely *The Colruyt Deep Learning Challenge*.__\n",
    "\n",
    "<img src=\"./resources/catdog.gif\"  style=\"height: 300px\"/>\n"
   ]
  }
 ],
 "metadata": {
  "kernelspec": {
   "display_name": "Python 3",
   "language": "python",
   "name": "python3"
  },
  "language_info": {
   "codemirror_mode": {
    "name": "ipython",
    "version": 3
   },
   "file_extension": ".py",
   "mimetype": "text/x-python",
   "name": "python",
   "nbconvert_exporter": "python",
   "pygments_lexer": "ipython3",
   "version": "3.7.3"
  }
 },
 "nbformat": 4,
 "nbformat_minor": 2
}
