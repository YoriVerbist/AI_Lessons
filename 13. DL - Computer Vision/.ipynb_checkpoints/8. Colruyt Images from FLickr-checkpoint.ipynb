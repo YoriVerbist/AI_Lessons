{
 "cells": [
  {
   "cell_type": "markdown",
   "metadata": {},
   "source": [
    "https://www.youtube.com/watch?v=RPjt1-ZtTLg"
   ]
  },
  {
   "cell_type": "code",
   "execution_count": null,
   "metadata": {},
   "outputs": [],
   "source": [
    "pip install flickrapi"
   ]
  },
  {
   "cell_type": "code",
   "execution_count": null,
   "metadata": {},
   "outputs": [],
   "source": [
    "# First, you should install flickrapi\n",
    "# pip install flickrapi\n",
    "\n",
    "import flickrapi\n",
    "import urllib.request\n",
    "from PIL import Image\n",
    "\n",
    "# Flickr api access key \n",
    "flickr=flickrapi.FlickrAPI('4212f9b71fdbcc3b8b5d1de9a1763c34', '99fedbde4732cbe5', cache=True)\n",
    "\n",
    "map = 'colruyt/fig'\n",
    "keyword = 'fig'\n",
    "abb = 'f'\n",
    "\n",
    "photos = flickr.walk(text=keyword,\n",
    "                     tag_mode='all',\n",
    "                     tags=keyword,\n",
    "                     extras='url_c',\n",
    "                     per_page=500,           # may be you can try different numbers..\n",
    "                     sort='relevance')\n",
    "\n",
    "urls = []\n",
    "for i, photo in enumerate(photos):\n",
    "#    print (i)\n",
    "    \n",
    "    url = photo.get('url_c')\n",
    "    #urls.append(url)\n",
    "    \n",
    "    filename = map + '/' + abb + str(i).zfill(5) + '.jpg'\n",
    "    try:\n",
    "        print(str(i) + ': ' + filename + ' ' + url)\n",
    "        urllib.request.urlretrieve(url, filename)\n",
    "    except:\n",
    "        print(\"An exception occurred\")\n",
    "        \n",
    "    # Resize the image and overwrite it\n",
    "    #image = Image.open('00001.jpg') \n",
    "    #image = image.resize((512, 512), Image.ANTIALIAS)\n",
    "    #image.save('00001.jpg')\n",
    "\n",
    "    # get 5 urls\n",
    "    if i > 490:\n",
    "        break"
   ]
  }
 ],
 "metadata": {
  "kernelspec": {
   "display_name": "Python 3",
   "language": "python",
   "name": "python3"
  },
  "language_info": {
   "codemirror_mode": {
    "name": "ipython",
    "version": 3
   },
   "file_extension": ".py",
   "mimetype": "text/x-python",
   "name": "python",
   "nbconvert_exporter": "python",
   "pygments_lexer": "ipython3",
   "version": "3.7.3"
  }
 },
 "nbformat": 4,
 "nbformat_minor": 2
}
