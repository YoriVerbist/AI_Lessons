{
 "cells": [
  {
   "cell_type": "markdown",
   "metadata": {},
   "source": [
    "# Pile of matches\n",
    "\n",
    "This is a game where we have a pile of matches. Each player takes turns to take a number (1, 2 or 3) of matches from the pile. The goal of the game is to avoid taking the last match from the pile.\n",
    "\n",
    "<img src=\"./resources/matches.jpg\"  style=\"height: 200px\"/>"
   ]
  },
  {
   "cell_type": "markdown",
   "metadata": {},
   "source": [
    "## 1. Import packages\n",
    "\n",
    "Import the following packages:"
   ]
  },
  {
   "cell_type": "code",
   "execution_count": null,
   "metadata": {},
   "outputs": [],
   "source": [
    "from easyAI import TwoPlayersGame, Human_Player, AI_Player, Negamax"
   ]
  },
  {
   "cell_type": "markdown",
   "metadata": {},
   "source": [
    "## 2. Define the game class\n",
    "\n",
    "Define a class that contains all the methods to play the game."
   ]
  },
  {
   "cell_type": "code",
   "execution_count": null,
   "metadata": {},
   "outputs": [],
   "source": [
    "class PileOfMatches (TwoPlayersGame):\n",
    "    \"\"\" In turn, the players remove one, two or three matches from a\n",
    "    pile. The player who removes the last match loses. \"\"\"\n",
    "\n",
    "    def __init__(self, players):\n",
    "        self.players = players\n",
    "        self.nplayer = 1 # player 1 starts\n",
    "        self.pile = 20 # the number of matches on the pile, free to choose any number\n",
    "        \n",
    "    # define all the possible moves\n",
    "    def possible_moves(self):\n",
    "        return ['1','2','3'] # take 1, 2 or 3 matches from the pile\n",
    "\n",
    "    # a method to remove the matches and keep track of the number of matches remaining on the pile\n",
    "    def make_move(self,move):\n",
    "        self.pile -= int(move)\n",
    "      \n",
    "    # check if somebody won the game by checking the number of matches remaining\n",
    "    def win(self): \n",
    "        return self.pile <= 0\n",
    "\n",
    "    # stop the game after somebody wins it\n",
    "    def is_over(self): \n",
    "        return self.win()\n",
    "    \n",
    "    # compute the score based on the win method\n",
    "    def scoring(self): \n",
    "        return 100 if self.win() else 0 # for the AI\n",
    "\n",
    "    # a method to show the current status of the pile\n",
    "    def show(self):\n",
    "        print(\"%d matches left on pile\" % self.pile)"
   ]
  },
  {
   "cell_type": "markdown",
   "metadata": {},
   "source": [
    "## 4. Play the game\n",
    "\n",
    "We will use Negamax and think 6 steps in advance. Now you can play the game and try to beat the AI."
   ]
  },
  {
   "cell_type": "code",
   "execution_count": null,
   "metadata": {},
   "outputs": [],
   "source": [
    "ai = Negamax(6)\n",
    "game = PileOfMatches([Human_Player(), AI_Player(ai)])\n",
    "history = game.play()"
   ]
  }
 ],
 "metadata": {
  "kernelspec": {
   "display_name": "Python 3",
   "language": "python",
   "name": "python3"
  },
  "language_info": {
   "codemirror_mode": {
    "name": "ipython",
    "version": 3
   },
   "file_extension": ".py",
   "mimetype": "text/x-python",
   "name": "python",
   "nbconvert_exporter": "python",
   "pygments_lexer": "ipython3",
   "version": "3.7.3"
  }
 },
 "nbformat": 4,
 "nbformat_minor": 2
}
