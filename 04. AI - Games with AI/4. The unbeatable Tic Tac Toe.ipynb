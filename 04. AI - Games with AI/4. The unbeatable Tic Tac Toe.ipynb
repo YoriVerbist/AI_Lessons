{
 "cells": [
  {
   "cell_type": "markdown",
   "metadata": {},
   "source": [
    "# The Unbeatable Tic Tac Toe\n",
    "\n",
    "Now that we understand the Minimax algoritm, we are going to use Minimax to program the unbeatbale Tic Tac Toe. We could do that ourselves (using our knowledge of recursion and Minimax), but since this would be a little difficult, we will use a library called *easyAI*. It is an artificial intelligence framework and it provides all the functionality necessary to build two-player games. \n",
    "\n",
    "Don't worry, the Tic Tac Toe program below won't be an exam question, but have a brief look at the code and after that try to beat the AI."
   ]
  },
  {
   "cell_type": "markdown",
   "metadata": {},
   "source": [
    "## 1. Installation\n",
    "\n",
    "First install the library using following command:"
   ]
  },
  {
   "cell_type": "code",
   "execution_count": null,
   "metadata": {},
   "outputs": [],
   "source": [
    "pip install easyAI"
   ]
  },
  {
   "cell_type": "markdown",
   "metadata": {},
   "source": [
    "## 2. Import packages\n",
    "\n",
    "Import the following packages (note: we are using *Negamax* a variant of *Minimax*):"
   ]
  },
  {
   "cell_type": "code",
   "execution_count": null,
   "metadata": {},
   "outputs": [],
   "source": [
    "from easyAI import TwoPlayersGame, Human_Player, AI_Player, Negamax"
   ]
  },
  {
   "cell_type": "markdown",
   "metadata": {},
   "source": [
    "## 3. Define the game class\n",
    "\n",
    "First have a look at some Python code snippets we are going to use right a way:"
   ]
  },
  {
   "cell_type": "code",
   "execution_count": null,
   "metadata": {},
   "outputs": [],
   "source": [
    "# python code to create an array with 9 zeros\n",
    "print ([0] * 9)"
   ]
  },
  {
   "cell_type": "code",
   "execution_count": null,
   "metadata": {},
   "outputs": [],
   "source": [
    "# python code to print all indices (starting with 1) of zero values in an array\n",
    "print ([i+1 for i,b in enumerate([0, 0, 1, 2, 0, 2, 1, 0, 2]) if b==0])"
   ]
  },
  {
   "cell_type": "markdown",
   "metadata": {},
   "source": [
    "Define a class that contains all the methods to play the game."
   ]
  },
  {
   "cell_type": "code",
   "execution_count": null,
   "metadata": {},
   "outputs": [],
   "source": [
    "class TicTacToe( TwoPlayersGame ):\n",
    "    \"\"\" The board positions are numbered as follows:\n",
    "            1 2 3\n",
    "            4 5 6\n",
    "            7 8 9\n",
    "    \"\"\"    \n",
    "\n",
    "    # this is the constructor\n",
    "    def __init__(self, players):\n",
    "        # start by defining the players and the player (1) who starts the game\n",
    "        self.players = players\n",
    "        self.nplayer = 1\n",
    "        # define the board\n",
    "        self.board = [0] * 9\n",
    "     \n",
    "    # this method returns an array with all the possible moves (indices of the zero values on the board)\n",
    "    def possible_moves(self):\n",
    "        return [i+1 for i,b in enumerate(self.board) if b==0]\n",
    "    \n",
    "    # this method updates the board after making a move (place 1 or 2 at the right place (= move - 1) in the board array)\n",
    "    def make_move(self, move):\n",
    "        self.board[int(move)-1] = self.nplayer\n",
    "\n",
    "    # this method undoes the move, optional method (speeds up the AI)\n",
    "    def unmake_move(self, move): \n",
    "        self.board[int(move)-1] = 0\n",
    "    \n",
    "    # method to see if somebody has lost the game, checking if somebody has three in a row\n",
    "    def lose(self):\n",
    "        # does the opponent have three in line ?\n",
    "        return any( [all([(self.board[c-1]== self.nopponent)\n",
    "                      for c in line])\n",
    "                      for line in [[1,2,3],[4,5,6],[7,8,9], # horiz.\n",
    "                                   [1,4,7],[2,5,8],[3,6,9], # vertical\n",
    "                                   [1,5,9],[3,5,7]]]) # diagonal\n",
    "     \n",
    "    # check if the game is over (no possible moves or somebody has lost)\n",
    "    def is_over(self):\n",
    "        return (self.possible_moves() == []) or self.lose()\n",
    "\n",
    "    # compute the score for minimax\n",
    "    def scoring(self):\n",
    "        return -100 if self.lose() else 0\n",
    "    \n",
    "    # this method shows the current board state\n",
    "    def show(self):\n",
    "        print ('\\n'+'\\n'.join([\n",
    "                        ' '.join([['.','O','X'][self.board[3*j+i]]\n",
    "                        for i in range(3)])\n",
    "                 for j in range(3)]) )"
   ]
  },
  {
   "cell_type": "markdown",
   "metadata": {},
   "source": [
    "## 4. Play the game\n",
    "\n",
    "We will use Negamax (a variant of Minimax) as the AI algorithm for this game. We can specify the number of steps in advance that the algorithm should think. In this case, let's choose 6. Now you can play the game and try to beat the AI. Probably it will result in a draw."
   ]
  },
  {
   "cell_type": "code",
   "execution_count": null,
   "metadata": {},
   "outputs": [],
   "source": [
    "ai = Negamax(6)\n",
    "game = TicTacToe( [Human_Player(),AI_Player(ai)])\n",
    "history = game.play()"
   ]
  }
 ],
 "metadata": {
  "kernelspec": {
   "display_name": "Python 3",
   "language": "python",
   "name": "python3"
  },
  "language_info": {
   "codemirror_mode": {
    "name": "ipython",
    "version": 3
   },
   "file_extension": ".py",
   "mimetype": "text/x-python",
   "name": "python",
   "nbconvert_exporter": "python",
   "pygments_lexer": "ipython3",
   "version": "3.7.3"
  }
 },
 "nbformat": 4,
 "nbformat_minor": 2
}
