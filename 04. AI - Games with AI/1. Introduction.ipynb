{
 "cells": [
  {
   "cell_type": "markdown",
   "metadata": {},
   "source": [
    "# Building Games With Artificial Intelligence\n",
    "\n",
    "In this lesson we are going to learn how to build games with Artificial Intelligence. We will learn how to use search algorithms to effectively come up with strategies to win these games. These algorithms (based on recursion) consider all possible actions available at this time (a game tree) and then evaluate their future moves based on these options. The goal\n",
    "of the algorithm of course is to find the optimal set of moves that will help it arrive at the final and (most important) winning position. At the end of this lesson you will use the Minimax algorithm to program the unbeatable Tic Tac Toe (or Noughts and Crosses) game."
   ]
  },
  {
   "cell_type": "markdown",
   "metadata": {},
   "source": [
    "## Tic Tac Toe\n",
    "\n",
    "Tic Tac Toe, Noughts and Crosses, or Xs and Os is a paper-and-pencil game for two players, X and O, who take turns marking the spaces in a 3×3 grid. The player who succeeds in placing three of their marks in a horizontal, vertical, or diagonal row wins the game.\n",
    "\n",
    "<img src=\"./resources/tictactoe.png\"  style=\"height: 250px\"/>"
   ]
  }
 ],
 "metadata": {
  "kernelspec": {
   "display_name": "Python 3",
   "language": "python",
   "name": "python3"
  },
  "language_info": {
   "codemirror_mode": {
    "name": "ipython",
    "version": 3
   },
   "file_extension": ".py",
   "mimetype": "text/x-python",
   "name": "python",
   "nbconvert_exporter": "python",
   "pygments_lexer": "ipython3",
   "version": "3.7.3"
  }
 },
 "nbformat": 4,
 "nbformat_minor": 2
}
