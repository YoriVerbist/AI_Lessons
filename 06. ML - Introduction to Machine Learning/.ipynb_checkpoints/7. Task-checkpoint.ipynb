{
 "cells": [
  {
   "cell_type": "markdown",
   "metadata": {},
   "source": [
    "# Task ML. My recommender system: ```Subreddits```\n",
    "\n",
    "- Student name: Yori Verbist\n",
    "- Number: r0697651\n",
    "\n",
    "First find a topic which you can develop a recommender system for. Don't use a film recommender system this time, try to be a little more original. Maybe build a recommender system for TV series, holiday destinations, computer games, favorite (exotic) dishes or recipies, city trip destinations, computer games, ... Use your imagination, you should definitely be able to find something funny. List at least 20 different items on the chosen subject. \n",
    "\n",
    "```Reddit Subreddits, because there are a lot of them so there will always be some you have never heard of before.```\n",
    "\n",
    "Next think of your target group. Who do you want to set up the recommender system for? For friends, family, classmates, ...?\n",
    "Design and develop a tool to collect the data for your recommender system. A possible tool is *Google Forms*, but maybe you know a better way. Now, using the tool, ask your target group, to rate the (at least) 20 items. You should also at least have 20 different respondents.\n",
    "\n",
    "__Make sure you provide the option \"not yet tried\" or \"no rating\" in your survey. If everyone gives a rating for all the data, there is nothing to recommend.__\n",
    "\n",
    "<img src=\"./recommender/form.png\"  style=\"height: 500px\"/>\n",
    "\n",
    "The following step is to convert the data in the correct json-format. Insert below a part of the json-file:\n",
    "\n",
    "```\"gsx$tijdstempel\": {\n",
    "                    \"$t\": \"17-10-2020 19:55:59\"\n",
    "                },\n",
    "                \"gsx$rmath\": {\n",
    "                    \"$t\": \"Don't know\"\n",
    "                },\n",
    "                \"gsx$rlearnmath\": {\n",
    "                    \"$t\": \"Don't know\"\n",
    "                },\n",
    "                \"gsx$rprogramming\": {\n",
    "                    \"$t\": \"2\"\n",
    "                },\n",
    "                \"gsx$rlearnprogramming\": {\n",
    "                    \"$t\": \"Don't know\"\n",
    "                },\n",
    "                \"gsx$raww\": {\n",
    "                    \"$t\": \"2\"\n",
    "                },\n",
    "                \"gsx$rnatureisfuckinglit\": {\n",
    "                    \"$t\": \"Don't know\"\n",
    "                },\n",
    "                \"gsx$rearthporn\": {\n",
    "                    \"$t\": \"Don't know\"\n",
    "                },```\n",
    "\n",
    "Once the data is collected, we can start using it to recommend items to our users."
   ]
  },
  {
   "cell_type": "markdown",
   "metadata": {},
   "source": [
    "First import the code library with the functions:"
   ]
  },
  {
   "cell_type": "code",
   "execution_count": 2,
   "metadata": {},
   "outputs": [],
   "source": [
    "import sys\n",
    "sys.path.append('recommender/collaborative_filtering.py')\n",
    "\n",
    "from recommender.collaborative_filtering import euclidean_score, pearson_score, find_similar_users, get_recommendations"
   ]
  },
  {
   "cell_type": "markdown",
   "metadata": {},
   "source": [
    "Read the json file and calculate the similarity score between two of your respondents using the two different methods. Does it make sense? Explain briefly."
   ]
  },
  {
   "cell_type": "code",
   "execution_count": 9,
   "metadata": {},
   "outputs": [
    {
     "name": "stdout",
     "output_type": "stream",
     "text": [
      "\n",
      "Euclidean score:\n"
     ]
    },
    {
     "ename": "TypeError",
     "evalue": "unsupported operand type(s) for -: 'str' and 'str'",
     "output_type": "error",
     "traceback": [
      "\u001b[1;31m---------------------------------------------------------------------------\u001b[0m",
      "\u001b[1;31mTypeError\u001b[0m                                 Traceback (most recent call last)",
      "\u001b[1;32m<ipython-input-9-25f6df5a6e22>\u001b[0m in \u001b[0;36m<module>\u001b[1;34m\u001b[0m\n\u001b[0;32m     10\u001b[0m \u001b[1;33m\u001b[0m\u001b[0m\n\u001b[0;32m     11\u001b[0m \u001b[0mprint\u001b[0m\u001b[1;33m(\u001b[0m\u001b[1;34m\"\\nEuclidean score:\"\u001b[0m\u001b[1;33m)\u001b[0m\u001b[1;33m\u001b[0m\u001b[1;33m\u001b[0m\u001b[0m\n\u001b[1;32m---> 12\u001b[1;33m \u001b[0mprint\u001b[0m\u001b[1;33m(\u001b[0m\u001b[0meuclidean_score\u001b[0m\u001b[1;33m(\u001b[0m\u001b[0mdata\u001b[0m\u001b[1;33m,\u001b[0m \u001b[0muser1\u001b[0m\u001b[1;33m,\u001b[0m \u001b[0muser2\u001b[0m\u001b[1;33m)\u001b[0m\u001b[1;33m)\u001b[0m\u001b[1;33m\u001b[0m\u001b[1;33m\u001b[0m\u001b[0m\n\u001b[0m\u001b[0;32m     13\u001b[0m \u001b[1;33m\u001b[0m\u001b[0m\n\u001b[0;32m     14\u001b[0m \u001b[0mprint\u001b[0m\u001b[1;33m(\u001b[0m\u001b[1;34m\"\\nPearson score:\"\u001b[0m\u001b[1;33m)\u001b[0m\u001b[1;33m\u001b[0m\u001b[1;33m\u001b[0m\u001b[0m\n",
      "\u001b[1;32mD:\\Users\\Belgi\\Documents\\3AI\\AI\\Lessons\\06. ML - Introduction to Machine Learning\\recommender\\collaborative_filtering.py\u001b[0m in \u001b[0;36meuclidean_score\u001b[1;34m(dataset, user1, user2)\u001b[0m\n\u001b[0;32m     63\u001b[0m     \u001b[1;32mfor\u001b[0m \u001b[0mitem\u001b[0m \u001b[1;32min\u001b[0m \u001b[0mdataset\u001b[0m\u001b[1;33m[\u001b[0m\u001b[0muser1\u001b[0m\u001b[1;33m]\u001b[0m\u001b[1;33m:\u001b[0m\u001b[1;33m\u001b[0m\u001b[1;33m\u001b[0m\u001b[0m\n\u001b[0;32m     64\u001b[0m         \u001b[1;32mif\u001b[0m \u001b[0mitem\u001b[0m \u001b[1;32min\u001b[0m \u001b[0mdataset\u001b[0m\u001b[1;33m[\u001b[0m\u001b[0muser2\u001b[0m\u001b[1;33m]\u001b[0m\u001b[1;33m:\u001b[0m\u001b[1;33m\u001b[0m\u001b[1;33m\u001b[0m\u001b[0m\n\u001b[1;32m---> 65\u001b[1;33m             \u001b[0msquared_diff\u001b[0m\u001b[1;33m.\u001b[0m\u001b[0mappend\u001b[0m\u001b[1;33m(\u001b[0m\u001b[0mnp\u001b[0m\u001b[1;33m.\u001b[0m\u001b[0msquare\u001b[0m\u001b[1;33m(\u001b[0m\u001b[0mdataset\u001b[0m\u001b[1;33m[\u001b[0m\u001b[0muser1\u001b[0m\u001b[1;33m]\u001b[0m\u001b[1;33m[\u001b[0m\u001b[0mitem\u001b[0m\u001b[1;33m]\u001b[0m \u001b[1;33m-\u001b[0m \u001b[0mdataset\u001b[0m\u001b[1;33m[\u001b[0m\u001b[0muser2\u001b[0m\u001b[1;33m]\u001b[0m\u001b[1;33m[\u001b[0m\u001b[0mitem\u001b[0m\u001b[1;33m]\u001b[0m\u001b[1;33m)\u001b[0m\u001b[1;33m)\u001b[0m\u001b[1;33m\u001b[0m\u001b[1;33m\u001b[0m\u001b[0m\n\u001b[0m\u001b[0;32m     66\u001b[0m \u001b[1;33m\u001b[0m\u001b[0m\n\u001b[0;32m     67\u001b[0m     \u001b[1;32mreturn\u001b[0m \u001b[1;36m1\u001b[0m \u001b[1;33m/\u001b[0m \u001b[1;33m(\u001b[0m\u001b[1;36m1\u001b[0m \u001b[1;33m+\u001b[0m \u001b[0mnp\u001b[0m\u001b[1;33m.\u001b[0m\u001b[0msqrt\u001b[0m\u001b[1;33m(\u001b[0m\u001b[0mnp\u001b[0m\u001b[1;33m.\u001b[0m\u001b[0msum\u001b[0m\u001b[1;33m(\u001b[0m\u001b[0msquared_diff\u001b[0m\u001b[1;33m)\u001b[0m\u001b[1;33m)\u001b[0m\u001b[1;33m)\u001b[0m\u001b[1;33m\u001b[0m\u001b[1;33m\u001b[0m\u001b[0m\n",
      "\u001b[1;31mTypeError\u001b[0m: unsupported operand type(s) for -: 'str' and 'str'"
     ]
    }
   ],
   "source": [
    "ratings_file = 'recommender/ratings.csv'\n",
    "\n",
    "import pandas as pd\n",
    "\n",
    "with open(ratings_file) as json_file:\n",
    "    data = json.load(json_file)\n",
    "\n",
    "user1 = \"feed\"\n",
    "user2 = \"feed\"\n",
    "\n",
    "print(\"\\nEuclidean score:\")\n",
    "print(euclidean_score(data, user1, user2))\n",
    "    \n",
    "print(\"\\nPearson score:\")\n",
    "print(pearson_score(data, user1, user2))"
   ]
  },
  {
   "cell_type": "markdown",
   "metadata": {},
   "source": [
    "Find - given a respondent - five similar respondents."
   ]
  },
  {
   "cell_type": "code",
   "execution_count": null,
   "metadata": {},
   "outputs": [],
   "source": []
  },
  {
   "cell_type": "markdown",
   "metadata": {},
   "source": [
    "Use your recommendation system to give some recommendations for one respondent."
   ]
  },
  {
   "cell_type": "code",
   "execution_count": null,
   "metadata": {},
   "outputs": [],
   "source": []
  },
  {
   "cell_type": "markdown",
   "metadata": {},
   "source": [
    "List all the respondents in a table. For every respondent, you show the most similar respondent and the first recommendation."
   ]
  },
  {
   "cell_type": "code",
   "execution_count": null,
   "metadata": {},
   "outputs": [],
   "source": []
  },
  {
   "cell_type": "markdown",
   "metadata": {},
   "source": [
    "Print/export your Jupyter Notebook to a pdf file and upload it using Canvas."
   ]
  },
  {
   "cell_type": "code",
   "execution_count": null,
   "metadata": {},
   "outputs": [],
   "source": []
  }
 ],
 "metadata": {
  "kernelspec": {
   "display_name": "Python 3",
   "language": "python",
   "name": "python3"
  },
  "language_info": {
   "codemirror_mode": {
    "name": "ipython",
    "version": 3
   },
   "file_extension": ".py",
   "mimetype": "text/x-python",
   "name": "python",
   "nbconvert_exporter": "python",
   "pygments_lexer": "ipython3",
   "version": "3.8.5"
  }
 },
 "nbformat": 4,
 "nbformat_minor": 2
}
