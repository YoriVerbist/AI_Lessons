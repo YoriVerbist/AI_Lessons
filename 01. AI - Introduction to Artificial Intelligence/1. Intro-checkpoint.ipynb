{
 "cells": [
  {
   "cell_type": "markdown",
   "metadata": {},
   "source": [
    "# Are you excited about Artificial Intelligence?\n",
    "\n",
    "Artificial Intelligence (AI) is currently the hottest buzzword in tech. Let's start our course with an inspirational video on the role of Artificial Intelligence and its scope in the future. In the video below, you will find the best clips on Artificial Intelligence by some well-known leaders and influencers such as Bill Gates, Tim Cook, Warren Buffett, Barack Obama, Elon Musk, Sundar Pichai and Jeff Bezos. Artifical Intelligence is definitely the future of the world.\n",
    "\n",
    "Run the HTML code below and start watching the video (from 0:00 till 4:45)."
   ]
  },
  {
   "cell_type": "code",
   "execution_count": 1,
   "metadata": {
    "scrolled": false
   },
   "outputs": [
    {
     "data": {
      "text/html": [
       "<iframe width=\"560\" height=\"315\" src=\"https://www.youtube.com/embed/wTbrk0suwbg?start=0&end=286\" frameborder=\"0\" allow=\"accelerometer; autoplay; encrypted-media; gyroscope; picture-in-picture\" allowfullscreen></iframe>\n"
      ],
      "text/plain": [
       "<IPython.core.display.HTML object>"
      ]
     },
     "metadata": {},
     "output_type": "display_data"
    }
   ],
   "source": [
    "%%HTML\n",
    "<iframe width=\"560\" height=\"315\" src=\"https://www.youtube.com/embed/wTbrk0suwbg?start=0&end=286\" frameborder=\"0\" allow=\"accelerometer; autoplay; encrypted-media; gyroscope; picture-in-picture\" allowfullscreen></iframe>"
   ]
  },
  {
   "cell_type": "code",
   "execution_count": null,
   "metadata": {},
   "outputs": [],
   "source": []
  }
 ],
 "metadata": {
  "kernelspec": {
   "display_name": "Python 3",
   "language": "python",
   "name": "python3"
  },
  "language_info": {
   "codemirror_mode": {
    "name": "ipython",
    "version": 3
   },
   "file_extension": ".py",
   "mimetype": "text/x-python",
   "name": "python",
   "nbconvert_exporter": "python",
   "pygments_lexer": "ipython3",
   "version": "3.7.3"
  }
 },
 "nbformat": 4,
 "nbformat_minor": 2
}
