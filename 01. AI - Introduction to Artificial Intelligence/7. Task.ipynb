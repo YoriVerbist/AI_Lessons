{
 "cells": [
  {
   "cell_type": "markdown",
   "metadata": {},
   "source": [
    "# Task AI. The region coloring problem: ```Westeros```\n",
    "\n",
    "- Student name: Yori Verbist\n",
    "- Number: R0697651\n",
    "\n",
    "First find a blank map (on the internet). Choose a map you're interested in: a map of your home town, the country you were on vacation, a map used in your favorite game, the continent you would like to visit someday, ... It goes without saying that you must have enough regions (at least 10). Show the blank map below:\n",
    "\n",
    "``` insert map ```\n",
    "<img src=\"resources/westeros-regions-named.png\"  style=\"height: 315px\"/>\n",
    "\n",
    "```Explain briefly what this map is all about and why you have chosen this map.```\n",
    "\n",
    "##### It's the map from Game of Thrones. I chose this map because the map of Skyrim was to small.\n",
    "\n",
    "Your goal is to color the map with the least colors possible so that no adjacent regions have the same color."
   ]
  },
  {
   "cell_type": "markdown",
   "metadata": {},
   "source": [
    "First import the classes, define the variables and the possible values that every variable can take. Choose your own colors."
   ]
  },
  {
   "cell_type": "code",
   "execution_count": 2,
   "metadata": {},
   "outputs": [],
   "source": [
    "from simpleai.search import CspProblem, backtrack\n",
    "variables = (\"Night's Watch\", \"The North\", \"The Vale\",\n",
    "             \"Iron Islands\", \"Riverlands\", \"Westerlands\",\n",
    "             \"Crownlands\", \"The Reach\", \"Stormlands\",\n",
    "             \"Dorne\"\n",
    "            )\n",
    "colors = [\"red\", \"white\", \"blue\", \"yellow\"]\n",
    "domains = {\n",
    "    \"Night's Watch\": colors,\n",
    "    \"The North\": colors,\n",
    "    \"The Vale\": colors,\n",
    "    \"Iron Islands\": colors,\n",
    "    \"Riverlands\": colors,\n",
    "    \"Westerlands\": colors,\n",
    "    \"Crownlands\": colors,\n",
    "    \"The Reach\": colors,\n",
    "    \"Stormlands\": colors,\n",
    "    \"Dorne\": colors\n",
    "}"
   ]
  },
  {
   "cell_type": "markdown",
   "metadata": {},
   "source": [
    "Define the constraint function that imposes that two neighbors should be colored differently. Apply the constraint for every pair of regions from the chosen map."
   ]
  },
  {
   "cell_type": "code",
   "execution_count": 3,
   "metadata": {},
   "outputs": [
    {
     "name": "stdout",
     "output_type": "stream",
     "text": [
      "\n",
      "Solutions: {\"Night's Watch\": 'red', 'The North': 'white', 'The Vale': 'blue', 'Iron Islands': 'blue', 'Riverlands': 'yellow', 'Westerlands': 'white', 'Crownlands': 'white', 'The Reach': 'blue', 'Stormlands': 'yellow', 'Dorne': 'white'}\n"
     ]
    }
   ],
   "source": [
    "def constraint_unique(variables,values):\n",
    "    for i in range(1,len(values)):\n",
    "        if(values[0] == values[i]):\n",
    "            return False\n",
    "    return True\n",
    "\n",
    "constraints = [\n",
    "    ((\"Night's Watch\", \"The North\"), constraint_unique),\n",
    "    ((\"The North\", \"Night's Watch\", \"The Vale\", \"Riverlands\", \"Iron Islands\"), constraint_unique),\n",
    "    ((\"Iron Islands\", \"The North\", \"Riverlands\", \"Westerlands\"), constraint_unique),\n",
    "    ((\"The Vale\", \"Riverlands\", \"Crownlands\", \"The North\"), constraint_unique),    \n",
    "    ((\"Riverlands\", \"The Vale\", \"The North\", \"Iron Islands\", \"Westerlands\", \"Crownlands\", \"The Reach\"), constraint_unique),\n",
    "    ((\"Westerlands\", \"Iron Islands\", \"Riverlands\", \"The Reach\"), constraint_unique),\n",
    "    ((\"The Reach\", \"Westerlands\", \"Riverlands\", \"Crownlands\", \"Stormlands\", \"Dorne\"), constraint_unique),\n",
    "    ((\"Crownlands\", \"The Vale\", \"Riverlands\", \"The Reach\", \"Stormlands\"), constraint_unique),\n",
    "    ((\"Stormlands\", \"Crownlands\", \"The Reach\", \"Dorne\"), constraint_unique),\n",
    "    ((\"Dorne\", \"The Reach\", \"Stormlands\"), constraint_unique),\n",
    "]\n",
    "\n",
    "    \n",
    "problem = CspProblem(variables, domains, constraints)\n",
    "\n",
    "output = backtrack(problem)\n",
    "print('\\nSolutions:', output)"
   ]
  },
  {
   "cell_type": "markdown",
   "metadata": {},
   "source": [
    "And finaly search for a solution and print it."
   ]
  },
  {
   "cell_type": "code",
   "execution_count": null,
   "metadata": {},
   "outputs": [],
   "source": [
    "for country, color in output.items():\n",
    "    print(country, ' -> ', color )"
   ]
  },
  {
   "cell_type": "markdown",
   "metadata": {},
   "source": [
    "Use Paint or Photoshop to color the map with the colors from the solution and check that no two adjacent regions have the same color. Show the colored map below.\n",
    "\n",
    "``` insert colored map ```"
   ]
  },
  {
   "cell_type": "markdown",
   "metadata": {},
   "source": [
    "Convert the resulting *jupyter notebook* to pdf. Deliver it on Canvas."
   ]
  },
  {
   "cell_type": "markdown",
   "metadata": {},
   "source": [
    "<img src=\"resources/colored.png\"  style=\"height: 315px\"/>"
   ]
  }
 ],
 "metadata": {
  "kernelspec": {
   "display_name": "Python 3",
   "language": "python",
   "name": "python3"
  },
  "language_info": {
   "codemirror_mode": {
    "name": "ipython",
    "version": 3
   },
   "file_extension": ".py",
   "mimetype": "text/x-python",
   "name": "python",
   "nbconvert_exporter": "python",
   "pygments_lexer": "ipython3",
   "version": "3.8.5"
  }
 },
 "nbformat": 4,
 "nbformat_minor": 2
}
