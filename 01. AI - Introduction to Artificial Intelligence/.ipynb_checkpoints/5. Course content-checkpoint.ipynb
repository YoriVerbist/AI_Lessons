{
 "cells": [
  {
   "cell_type": "markdown",
   "metadata": {},
   "source": [
    "# Course content, important dates, deadlines and evaluation\n",
    "\n",
    "Now that we know the three main concepts, let's have a look at the course content (divided into the three domains).\n",
    "\n",
    "<img src=\"./resources/word.png\"  style=\"height: 350px\"/>"
   ]
  },
  {
   "cell_type": "markdown",
   "metadata": {},
   "source": [
    "## 1. Course content\n",
    "\n",
    "### Module 1: Artificial Intelligence\n",
    "\n",
    "- Lesson 1: Introduction to Artificial Intelligence (22/9)\n",
    "- Lesson 2: Recursion (22/9)\n",
    "- Lesson 3: Graph Search Algorithms (23/9) \n",
    "- Lesson 4: Games with AI (29/9)\n",
    "- Lesson 5: Logic Programming (30/9)\n",
    "\n",
    "### Module 2: Machine Learning\n",
    "\n",
    "- Lesson 6: Introduction to Machine Learning (6/10)\n",
    "- Lesson 7: Linear Regression (6/10)\n",
    "- Lesson 8: Recommender Systems (7/10)\n",
    "- Lesson 9: Decision Trees and Random Forest (13/10)\n",
    "- Lesson 10: Reinforcement Learning (14/10)\n",
    "\n",
    "### Module 3: Deep Learning\n",
    "\n",
    "- Lesson 11: Introduction to Deep Learning (20/10)\n",
    "- Lesson 12: Artificial Neural Networks (20/10)\n",
    "- Lesson 13: Computer Vision (21/10)\n",
    "- Lesson 14: Natural Language Processing (27/10)\n",
    "- Lesson 15: Speech Recognition (28/10)\n",
    "\n",
    "### Module 4: Project (10/11 - ...)"
   ]
  },
  {
   "cell_type": "markdown",
   "metadata": {},
   "source": [
    "## 2. Evaluation\n",
    "\n",
    "- Three tasks (see deadlines below): 3/20\n",
    "- Three tests about the concepts (see dates below): 3/20\n",
    "- Online practical exam: 6/20\n",
    "\n",
    "\n",
    "- Project + online oral explanation: 8/20"
   ]
  },
  {
   "cell_type": "markdown",
   "metadata": {},
   "source": [
    "## 3. Important dates and deadlines\n",
    "\n",
    "### Tasks\n",
    "\n",
    "- 30/9: Task 1: Solve the region coloring problem\n",
    "- 14/10: Task 2: Create your own recommender system\n",
    "- 28/10: Task 3: Colruyt Deep Learning Challenge\n",
    "\n",
    "### Tests\n",
    "\n",
    "- 6/10: Test 1: AI\n",
    "- 20/10: Test 2: Machine Learning\n",
    "- 10/11: Test 3: Deep Learning\n",
    "\n",
    "### Project\n",
    "\n",
    "- TBD"
   ]
  },
  {
   "cell_type": "code",
   "execution_count": null,
   "metadata": {},
   "outputs": [],
   "source": []
  }
 ],
 "metadata": {
  "kernelspec": {
   "display_name": "Python 3",
   "language": "python",
   "name": "python3"
  },
  "language_info": {
   "codemirror_mode": {
    "name": "ipython",
    "version": 3
   },
   "file_extension": ".py",
   "mimetype": "text/x-python",
   "name": "python",
   "nbconvert_exporter": "python",
   "pygments_lexer": "ipython3",
   "version": "3.8.5"
  }
 },
 "nbformat": 4,
 "nbformat_minor": 2
}
