{
 "cells": [
  {
   "cell_type": "markdown",
   "metadata": {},
   "source": [
    "# Artificial Intelligence vs Machine Learning vs Deep Learning\n",
    "\n",
    "AI, Machine Learning and Deep Learning are often used interchangeably, especially in the realm of data science. But these aren't the same thing, and it is important to understand how these can be applied differently. \n",
    "\n",
    "You can think of Artificial Intelligence (AI), Machine Learning and Deep Learning as a set of a matryoshka doll, also known as a Russian nesting doll. Deep Learning is a subset of Machine Learning, which is a subset of AI.\n",
    "\n",
    "The video (from 0:00 till 2:00) will explain the key concepts."
   ]
  },
  {
   "cell_type": "code",
   "execution_count": 1,
   "metadata": {
    "scrolled": true
   },
   "outputs": [
    {
     "data": {
      "text/html": [
       "<iframe width=\"560\" height=\"315\" src=\"https://www.youtube.com/embed/w-8MTXT_N6A?start=0&end=121\" frameborder=\"0\" allow=\"accelerometer; autoplay; encrypted-media; gyroscope; picture-in-picture\" allowfullscreen></iframe>\n"
      ],
      "text/plain": [
       "<IPython.core.display.HTML object>"
      ]
     },
     "metadata": {},
     "output_type": "display_data"
    }
   ],
   "source": [
    "%%HTML\n",
    "<iframe width=\"560\" height=\"315\" src=\"https://www.youtube.com/embed/w-8MTXT_N6A?start=0&end=121\" frameborder=\"0\" allow=\"accelerometer; autoplay; encrypted-media; gyroscope; picture-in-picture\" allowfullscreen></iframe>"
   ]
  },
  {
   "cell_type": "markdown",
   "metadata": {},
   "source": [
    "Here's a visual representation of the three concepts.\n",
    "\n",
    "<img src=\"./resources/aimldl.png\"  style=\"height: 315px\"/>\n",
    "\n",
    "### Artificial Intelligence\n",
    "\n",
    "Artificial Intelligence, as the name, suggests that it is the intelligence created by humans. Artificial intelligence is any computer program that does something smart. It can be a stack of a complex statistical model or if-then statements. AI can refer to anything from a computer program playing chess, to a voice-recognition system like Alexa.\n",
    "\n",
    "*The ability of machines to work and think, like the human brain, is called Artificial Intelligence.*\n",
    "\n",
    "### Machine Learning\n",
    "\n",
    "Machine learning is a subset of AI. The theory is simple: machines take data and *learn* for themselves. It is currently the most promising tool in the AI pool for businesses. Machine learning systems can quickly apply knowledge and training from large datasets to excel at facial, speech and object recognition, translation, and many other tasks. \n",
    "\n",
    "*Machine learning is the tendency of machines to learn from data analysis and achieve Artificial Intelligence.*\n",
    "\n",
    "### Deep Learning\n",
    "\n",
    "Deep learning is a subset of machine learning. Deep artificial neural networks are a set of algorithms reaching new levels of accuracy for many important problems, such as image and sound recognition, recommender systems, etc. It uses neural networks that simulate human decision-making. \n",
    "\n",
    "*Artifical neural networks used for implementing machine learning is known as deep learning.*"
   ]
  },
  {
   "cell_type": "code",
   "execution_count": null,
   "metadata": {},
   "outputs": [],
   "source": []
  }
 ],
 "metadata": {
  "kernelspec": {
   "display_name": "Python 3",
   "language": "python",
   "name": "python3"
  },
  "language_info": {
   "codemirror_mode": {
    "name": "ipython",
    "version": 3
   },
   "file_extension": ".py",
   "mimetype": "text/x-python",
   "name": "python",
   "nbconvert_exporter": "python",
   "pygments_lexer": "ipython3",
   "version": "3.7.3"
  }
 },
 "nbformat": 4,
 "nbformat_minor": 2
}
