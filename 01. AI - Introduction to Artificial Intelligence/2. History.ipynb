{
 "cells": [
  {
   "cell_type": "markdown",
   "metadata": {},
   "source": [
    "# History of Artificial Intelligence\n",
    "\n",
    "Artificial Intelligence is not a new word and not a new technology for researchers. This technology is much older than you would imagine. There are even the myths of Mechanical men in Ancient Greek and Egyptian Myths. Following video will show some milestones in the history of AI. With significant growth in investments in Artificial Intelligence (AI) technology, its advancement has never been better. But it all began decades ago.\n",
    "\n",
    "Run the HTML code below and start watching the video (from 0:00 till 2:35). Below you will find a timeline with the most important milestones."
   ]
  },
  {
   "cell_type": "code",
   "execution_count": 1,
   "metadata": {
    "scrolled": false
   },
   "outputs": [
    {
     "data": {
      "text/html": [
       "<iframe width=\"560\" height=\"315\" src=\"https://www.youtube.com/embed/056v4OxKwlI?start=0&end=155\" frameborder=\"0\" allow=\"accelerometer; autoplay; encrypted-media; gyroscope; picture-in-picture\" allowfullscreen></iframe>\n"
      ],
      "text/plain": [
       "<IPython.core.display.HTML object>"
      ]
     },
     "metadata": {},
     "output_type": "display_data"
    }
   ],
   "source": [
    "%%HTML\n",
    "<iframe width=\"560\" height=\"315\" src=\"https://www.youtube.com/embed/056v4OxKwlI?start=0&end=155\" frameborder=\"0\" allow=\"accelerometer; autoplay; encrypted-media; gyroscope; picture-in-picture\" allowfullscreen></iframe>"
   ]
  },
  {
   "cell_type": "markdown",
   "metadata": {},
   "source": [
    "## 1. Timeline\n",
    "\n",
    "Here’s a timeline with some crucial points in the history of AI.\n",
    "\n",
    "<img src=\"./resources/AI-Figure1.png\"  style=\"height: 315px\"/>\n",
    "<img src=\"./resources/AI-Figure2-1.png\"  style=\"height: 315px\"/>"
   ]
  },
  {
   "cell_type": "markdown",
   "metadata": {},
   "source": [
    "## 2. Why is Artificial Intelligence  booming now?\n",
    "\n",
    "The term Artificial Intelligence was coined in 1955 by computer scientist and professor of mathematics John McCarthy at Dartmouth College. Many scientists have been contributing to the field till date, but why is the AI boom occurring now? Why did this not happen in the mid of the 20th century or a few decades back?\n",
    "\n",
    "Run the HTML code below, watch the video (from 0:00 till 1:50) and find out why - after the AI winter - AI is booming right now."
   ]
  },
  {
   "cell_type": "code",
   "execution_count": 2,
   "metadata": {},
   "outputs": [
    {
     "data": {
      "text/html": [
       "<iframe width=\"560\" height=\"315\" src=\"https://www.youtube.com/embed/-RiiXVUrAdc?start=0&end=110\" frameborder=\"0\" allow=\"accelerometer; autoplay; encrypted-media; gyroscope; picture-in-picture\" allowfullscreen></iframe>\n"
      ],
      "text/plain": [
       "<IPython.core.display.HTML object>"
      ]
     },
     "metadata": {},
     "output_type": "display_data"
    }
   ],
   "source": [
    "%%HTML\n",
    "<iframe width=\"560\" height=\"315\" src=\"https://www.youtube.com/embed/-RiiXVUrAdc?start=0&end=110\" frameborder=\"0\" allow=\"accelerometer; autoplay; encrypted-media; gyroscope; picture-in-picture\" allowfullscreen></iframe>"
   ]
  },
  {
   "cell_type": "markdown",
   "metadata": {},
   "source": [
    "Basically, the convergence of three driving forces have sparked the current AI boom.\n",
    "\n",
    "### Computing Power\n",
    "\n",
    "To build high-functioning systems, you must have the right hardware and infrastructure in place. Early computers didn’t have sufficient power. Supercomputers were highly expensive, out of the range of even small and medium organisations. Now, there are GPU cloud services easily accessible to every individual. Google has rolled out TPU (Tensor Processing Units) which it claims to be 15 times faster than a GPU (graphics processing units) and designed specifically for machine learning. IBM is working to develop a quantum computing system to power their supercomputer Watson.\n",
    "\n",
    "### Data Availability\n",
    "\n",
    "We are generating more data today than ever before. Social platforms like Google, Facebook and all major organisations have all the basic personal data about you. Uber knows all your locations. A single modern car has 100 or more sensors that monitor functions such as fuel level and tyre pressure. To put the rapid growth of data into focus, 4 years ago, IBM reported that 90% of the data in the world today had been created in the last two years alone.\n",
    "\n",
    "### Better Algorithms\n",
    "\n",
    "Previously, there simply wasn't enough available data to train a machine. The more data we have, the better the algorithms do. Artificial Neural Network algorithms have been developed in the 80's. But the data and computational power were not available. This explosion of data and computational power has made it possible to refine algorithms. \n",
    "\n",
    "<img src=\"./resources/boom.png\"  style=\"height: 315px\"/>\n",
    "\n",
    "### Broad Investment\n",
    "\n",
    "There's even a fourth force: the broad investment of large companies."
   ]
  },
  {
   "cell_type": "code",
   "execution_count": null,
   "metadata": {},
   "outputs": [],
   "source": []
  }
 ],
 "metadata": {
  "kernelspec": {
   "display_name": "Python 3",
   "language": "python",
   "name": "python3"
  },
  "language_info": {
   "codemirror_mode": {
    "name": "ipython",
    "version": 3
   },
   "file_extension": ".py",
   "mimetype": "text/x-python",
   "name": "python",
   "nbconvert_exporter": "python",
   "pygments_lexer": "ipython3",
   "version": "3.8.5"
  }
 },
 "nbformat": 4,
 "nbformat_minor": 2
}
