{
 "cells": [
  {
   "cell_type": "markdown",
   "metadata": {},
   "source": [
    "# Task AI. The region coloring problem: ```map name```\n",
    "\n",
    "- Student name:\n",
    "- Number:\n",
    "\n",
    "First find a blank map (on the internet). Choose a map you're interested in: a map of your home town, the country you were on vacation, a map used in your favorite game, the continent you would like to visit someday, ... It goes without saying that you must have enough regions (at least 10). Show the blank map below:\n",
    "\n",
    "``` insert map ```\n",
    "\n",
    "```Explain briefly what this map is all about and why you have chosen this map.```\n",
    "\n",
    "Your goal is to color the map with the least colors possible so that no adjacent regions have the same color."
   ]
  },
  {
   "cell_type": "markdown",
   "metadata": {},
   "source": [
    "First import the classes, define the variables and the possible values that every variable can take. Choose your own colors."
   ]
  },
  {
   "cell_type": "code",
   "execution_count": null,
   "metadata": {},
   "outputs": [],
   "source": []
  },
  {
   "cell_type": "markdown",
   "metadata": {},
   "source": [
    "Define the constraint function that imposes that two neighbors should be colored differently. Apply the constraint for every pair of regions from the chosen map."
   ]
  },
  {
   "cell_type": "code",
   "execution_count": null,
   "metadata": {},
   "outputs": [],
   "source": []
  },
  {
   "cell_type": "markdown",
   "metadata": {},
   "source": [
    "And finaly search for a solution and print it."
   ]
  },
  {
   "cell_type": "code",
   "execution_count": null,
   "metadata": {},
   "outputs": [],
   "source": []
  },
  {
   "cell_type": "markdown",
   "metadata": {},
   "source": [
    "Use Paint or Photoshop to color the map with the colors from the solution and check that no two adjacent regions have the same color. Show the colored map below.\n",
    "\n",
    "``` insert colored map ```"
   ]
  },
  {
   "cell_type": "markdown",
   "metadata": {},
   "source": [
    "Convert the resulting *jupyter notebook* to pdf. Deliver it on Canvas."
   ]
  },
  {
   "cell_type": "code",
   "execution_count": null,
   "metadata": {},
   "outputs": [],
   "source": []
  }
 ],
 "metadata": {
  "kernelspec": {
   "display_name": "Python 3",
   "language": "python",
   "name": "python3"
  },
  "language_info": {
   "codemirror_mode": {
    "name": "ipython",
    "version": 3
   },
   "file_extension": ".py",
   "mimetype": "text/x-python",
   "name": "python",
   "nbconvert_exporter": "python",
   "pygments_lexer": "ipython3",
   "version": "3.7.3"
  }
 },
 "nbformat": 4,
 "nbformat_minor": 2
}
