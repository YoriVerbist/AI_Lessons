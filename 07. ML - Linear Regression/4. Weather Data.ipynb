{
 "cells": [
  {
   "cell_type": "markdown",
   "metadata": {},
   "source": [
    "# Weather Data"
   ]
  },
  {
   "cell_type": "markdown",
   "metadata": {},
   "source": [
    "We will use a dataset which contains information on weather conditions recorded on each day at various weather stations around the world. Information includes precipitation, snowfall, temperatures, wind speed and whether the day included thunderstorms or other poor weather conditions.\n",
    "\n",
    "We will try to predict the maximum temperature taking the minimum temperature as input feature."
   ]
  },
  {
   "cell_type": "markdown",
   "metadata": {},
   "source": [
    "## 1. Import and read the data\n",
    "\n",
    "Import all the required libraries :"
   ]
  },
  {
   "cell_type": "code",
   "execution_count": 1,
   "metadata": {},
   "outputs": [],
   "source": [
    "import numpy as np\n",
    "import pandas as pd\n",
    "from sklearn.linear_model import LinearRegression"
   ]
  },
  {
   "cell_type": "markdown",
   "metadata": {},
   "source": [
    "The following command imports the CSV dataset using Pandas:"
   ]
  },
  {
   "cell_type": "code",
   "execution_count": 2,
   "metadata": {},
   "outputs": [],
   "source": [
    "weather_df = pd.read_csv('./resources/weather.csv')"
   ]
  },
  {
   "cell_type": "markdown",
   "metadata": {},
   "source": [
    "## 2. Explore the data\n",
    "\n",
    "Let’s explore the data a little bit by checking the number of rows and columns in our datasets."
   ]
  },
  {
   "cell_type": "code",
   "execution_count": 3,
   "metadata": {},
   "outputs": [
    {
     "name": "stdout",
     "output_type": "stream",
     "text": [
      "(366, 22)\n"
     ]
    }
   ],
   "source": [
    "print(weather_df.shape)"
   ]
  },
  {
   "cell_type": "markdown",
   "metadata": {},
   "source": [
    "You should receive output as (366, 22), which means the data contains 366 rows and 22 columns. To see the statistical details of the dataset, we can use `describe()`:"
   ]
  },
  {
   "cell_type": "code",
   "execution_count": 4,
   "metadata": {},
   "outputs": [
    {
     "name": "stdout",
     "output_type": "stream",
     "text": [
      "          MinTemp     MaxTemp    Rainfall  Evaporation    Sunshine  \\\n",
      "count  366.000000  366.000000  366.000000   366.000000  363.000000   \n",
      "mean     7.265574   20.550273    1.428415     4.521858    7.909366   \n",
      "std      6.025800    6.690516    4.225800     2.669383    3.481517   \n",
      "min     -5.300000    7.600000    0.000000     0.200000    0.000000   \n",
      "25%      2.300000   15.025000    0.000000     2.200000    5.950000   \n",
      "50%      7.450000   19.650000    0.000000     4.200000    8.600000   \n",
      "75%     12.500000   25.500000    0.200000     6.400000   10.500000   \n",
      "max     20.900000   35.800000   39.800000    13.800000   13.600000   \n",
      "\n",
      "       WindGustSpeed  WindSpeed9am  WindSpeed3pm  Humidity9am  Humidity3pm  \\\n",
      "count     364.000000    359.000000    366.000000   366.000000   366.000000   \n",
      "mean       39.840659      9.651811     17.986339    72.035519    44.519126   \n",
      "std        13.059807      7.951929      8.856997    13.137058    16.850947   \n",
      "min        13.000000      0.000000      0.000000    36.000000    13.000000   \n",
      "25%        31.000000      6.000000     11.000000    64.000000    32.250000   \n",
      "50%        39.000000      7.000000     17.000000    72.000000    43.000000   \n",
      "75%        46.000000     13.000000     24.000000    81.000000    55.000000   \n",
      "max        98.000000     41.000000     52.000000    99.000000    96.000000   \n",
      "\n",
      "       Pressure9am  Pressure3pm    Cloud9am    Cloud3pm     Temp9am  \\\n",
      "count   366.000000   366.000000  366.000000  366.000000  366.000000   \n",
      "mean   1019.709016  1016.810383    3.890710    4.024590   12.358470   \n",
      "std       6.686212     6.469422    2.956131    2.666268    5.630832   \n",
      "min     996.500000   996.800000    0.000000    0.000000    0.100000   \n",
      "25%    1015.350000  1012.800000    1.000000    1.000000    7.625000   \n",
      "50%    1020.150000  1017.400000    3.500000    4.000000   12.550000   \n",
      "75%    1024.475000  1021.475000    7.000000    7.000000   17.000000   \n",
      "max    1035.700000  1033.200000    8.000000    8.000000   24.700000   \n",
      "\n",
      "          Temp3pm     RISK_MM  \n",
      "count  366.000000  366.000000  \n",
      "mean    19.230874    1.428415  \n",
      "std      6.640346    4.225800  \n",
      "min      5.100000    0.000000  \n",
      "25%     14.150000    0.000000  \n",
      "50%     18.550000    0.000000  \n",
      "75%     24.000000    0.200000  \n",
      "max     34.500000   39.800000  \n"
     ]
    }
   ],
   "source": [
    "print(weather_df.describe())"
   ]
  },
  {
   "cell_type": "markdown",
   "metadata": {},
   "source": [
    "Given a minimum temperature for a particular date, can we predict the maximum temperature? We will try to solve this problem using Linear Regression. Let’s plot our data points on a 2-D graph to eyeball our dataset and see if we can manually find a relationship between the data. We have taken MinTemp and MaxTemp for doing our analysis."
   ]
  },
  {
   "cell_type": "code",
   "execution_count": 5,
   "metadata": {},
   "outputs": [
    {
     "data": {
      "image/png": "[encoded data removed]",
      "text/plain": [
       "<Figure size 432x288 with 1 Axes>"
      ]
     },
     "metadata": {
      "needs_background": "light"
     },
     "output_type": "display_data"
    }
   ],
   "source": [
    "weather_df.plot(x='MinTemp', y='MaxTemp', style='o')\n",
    "\n",
    "import matplotlib.pyplot as plt\n",
    "\n",
    "plt.title('MinTemp vs MaxTemp')\n",
    "plt.xlabel('MinTemp')\n",
    "plt.ylabel('MaxTemp')\n",
    "plt.show()"
   ]
  },
  {
   "cell_type": "markdown",
   "metadata": {},
   "source": [
    "There is a sort of linear relationship between the two.\n",
    "\n",
    "## 3. Histograms\n",
    "\n",
    "Let’s check the  max temperature. A great way to get started exploring a single variable is with the histogram. A histogram divides the variable into bins, counts the data points in each bin, and shows the bins on the x-axis and the counts on the y-axis. For the plot calls, we specify the binwidth divided by the number of bins. For this plot, we will use bins of length 1 (35/1)."
   ]
  },
  {
   "cell_type": "code",
   "execution_count": null,
   "metadata": {},
   "outputs": [],
   "source": [
    "weather_df['MaxTemp'].plot(kind='hist', title='MaxTemp Histogram', bins=int(35/1), figsize=(10, 7));"
   ]
  },
  {
   "cell_type": "code",
   "execution_count": null,
   "metadata": {},
   "outputs": [],
   "source": [
    "# see the difference when we devide by 5\n",
    "weather_df['MaxTemp'].plot(kind='hist', title='MaxTemp Histogram', bins=int(35/5), figsize=(10, 7));"
   ]
  },
  {
   "cell_type": "markdown",
   "metadata": {},
   "source": [
    "## 4. Data splicing\n",
    "\n",
    "Our next step is to divide the data into independent variables and dependent variables, whose values are to be predicted. In our dataset, we only need two columns. We want to predict the *MaxTemp* (y) depending upon the *MinTemp* (X) recorded.\n",
    "\n",
    "Next, we split 80% of the data to the training set, while 20% of the data to test set."
   ]
  },
  {
   "cell_type": "code",
   "execution_count": null,
   "metadata": {},
   "outputs": [],
   "source": [
    "# Data splicing\n",
    "\n",
    "X = weather_df['MinTemp'].values.reshape(-1,1)\n",
    "y = weather_df['MaxTemp'].values\n",
    "\n",
    "from sklearn.model_selection import train_test_split\n",
    "\n",
    "X_train, X_test, y_train, y_test = train_test_split(X, y, test_size=0.2, random_state=0)"
   ]
  },
  {
   "cell_type": "code",
   "execution_count": null,
   "metadata": {},
   "outputs": [],
   "source": [
    "print(X_train) # MinTemp's for training"
   ]
  },
  {
   "cell_type": "code",
   "execution_count": null,
   "metadata": {},
   "outputs": [],
   "source": [
    "print(y_train) # MaxTemp's for training"
   ]
  },
  {
   "cell_type": "markdown",
   "metadata": {},
   "source": [
    "Let's plot the train (green dots) and test (red dots) data."
   ]
  },
  {
   "cell_type": "code",
   "execution_count": null,
   "metadata": {},
   "outputs": [],
   "source": [
    "import matplotlib.pyplot as plt\n",
    "\n",
    "plt.scatter(X_train, y_train, color='green')\n",
    "plt.scatter(X_test, y_test, color='red')\n",
    "plt.show()"
   ]
  },
  {
   "cell_type": "markdown",
   "metadata": {},
   "source": [
    "## 5. Train our model\n",
    "\n",
    "After splitting the data into training and testing sets, it is now time to train our algorithm. Therefore, we need to import the LinearRegression class, instantiate it, and call the fit() method along with our training data.\n",
    "\n",
    "As we have already discussed, the linear regression model basically finds the best value for the intercept and slope. This results in a line that best fits the data. To see the value of the intercept and slope calculated by the linear regression algorithm for our dataset, execute the following code."
   ]
  },
  {
   "cell_type": "code",
   "execution_count": null,
   "metadata": {},
   "outputs": [],
   "source": [
    "model = LinearRegression()\n",
    "model.fit(X_train, y_train) # training the model\n",
    "\n",
    "print('Intercept', model.intercept_) # intercept\n",
    "print('Coefficient', model.coef_) # slope"
   ]
  },
  {
   "cell_type": "markdown",
   "metadata": {},
   "source": [
    "This means that for each one unit of change in MinTemp, the change in the MaxTemp is about 0.81.\n",
    "\n",
    "## 6. Predictions\n",
    "\n",
    "Now that we have trained our model, it’s time to make some predictions. To do so, we will use our test data and see how accurately our algorithm predicts the MaxTemp."
   ]
  },
  {
   "cell_type": "code",
   "execution_count": null,
   "metadata": {},
   "outputs": [],
   "source": [
    "y_pred = model.predict(X_test)"
   ]
  },
  {
   "cell_type": "code",
   "execution_count": null,
   "metadata": {},
   "outputs": [],
   "source": [
    "plt.scatter(X_train, y_train, color='green')\n",
    "plt.plot(X_test, y_pred, color='black', linewidth=3)\n",
    "plt.show()"
   ]
  },
  {
   "cell_type": "code",
   "execution_count": null,
   "metadata": {},
   "outputs": [],
   "source": [
    "# compare the test values of y (actual MaxTemp) with the predicted values of y (predicted MaxTemp)\n",
    "# the flatten-method will transform a dataframe to a list\n",
    "\n",
    "compare_df = pd.DataFrame({'Actual': y_test.flatten(), 'Predicted': y_pred.flatten()})\n",
    "print(compare_df)"
   ]
  },
  {
   "cell_type": "markdown",
   "metadata": {},
   "source": [
    "We can also visualize the comparison result as a bar graph. Note: as the number of records is huge, we are taking only 25 records for representation purpose."
   ]
  },
  {
   "cell_type": "code",
   "execution_count": 6,
   "metadata": {},
   "outputs": [
    {
     "ename": "NameError",
     "evalue": "name 'compare_df' is not defined",
     "output_type": "error",
     "traceback": [
      "\u001b[1;31m---------------------------------------------------------------------------\u001b[0m",
      "\u001b[1;31mNameError\u001b[0m                                 Traceback (most recent call last)",
      "\u001b[1;32m<ipython-input-6-688d4eda9948>\u001b[0m in \u001b[0;36m<module>\u001b[1;34m\u001b[0m\n\u001b[1;32m----> 1\u001b[1;33m \u001b[0mcompare25_df\u001b[0m \u001b[1;33m=\u001b[0m \u001b[0mcompare_df\u001b[0m\u001b[1;33m.\u001b[0m\u001b[0mhead\u001b[0m\u001b[1;33m(\u001b[0m\u001b[1;36m25\u001b[0m\u001b[1;33m)\u001b[0m\u001b[1;33m\u001b[0m\u001b[1;33m\u001b[0m\u001b[0m\n\u001b[0m\u001b[0;32m      2\u001b[0m \u001b[0mcompare25_df\u001b[0m\u001b[1;33m.\u001b[0m\u001b[0mplot\u001b[0m\u001b[1;33m(\u001b[0m\u001b[0mkind\u001b[0m\u001b[1;33m=\u001b[0m\u001b[1;34m'bar'\u001b[0m\u001b[1;33m,\u001b[0m \u001b[0mfigsize\u001b[0m\u001b[1;33m=\u001b[0m\u001b[1;33m(\u001b[0m\u001b[1;36m16\u001b[0m\u001b[1;33m,\u001b[0m\u001b[1;36m10\u001b[0m\u001b[1;33m)\u001b[0m\u001b[1;33m)\u001b[0m\u001b[1;33m\u001b[0m\u001b[1;33m\u001b[0m\u001b[0m\n\u001b[0;32m      3\u001b[0m \u001b[0mplt\u001b[0m\u001b[1;33m.\u001b[0m\u001b[0mgrid\u001b[0m\u001b[1;33m(\u001b[0m\u001b[0mlinestyle\u001b[0m\u001b[1;33m=\u001b[0m\u001b[1;34m':'\u001b[0m\u001b[1;33m,\u001b[0m \u001b[0mlinewidth\u001b[0m\u001b[1;33m=\u001b[0m\u001b[1;34m'0.25'\u001b[0m\u001b[1;33m,\u001b[0m \u001b[0mcolor\u001b[0m\u001b[1;33m=\u001b[0m\u001b[1;34m'black'\u001b[0m\u001b[1;33m)\u001b[0m\u001b[1;33m\u001b[0m\u001b[1;33m\u001b[0m\u001b[0m\n\u001b[0;32m      4\u001b[0m \u001b[0mplt\u001b[0m\u001b[1;33m.\u001b[0m\u001b[0mshow\u001b[0m\u001b[1;33m(\u001b[0m\u001b[1;33m)\u001b[0m\u001b[1;33m\u001b[0m\u001b[1;33m\u001b[0m\u001b[0m\n",
      "\u001b[1;31mNameError\u001b[0m: name 'compare_df' is not defined"
     ]
    }
   ],
   "source": [
    "compare25_df = compare_df.head(25)\n",
    "compare25_df.plot(kind='bar', figsize=(16,10))\n",
    "plt.grid(linestyle=':', linewidth='0.25', color='black')\n",
    "plt.show()"
   ]
  },
  {
   "cell_type": "markdown",
   "metadata": {},
   "source": [
    "Let's plot our straight line with the test data "
   ]
  },
  {
   "cell_type": "code",
   "execution_count": null,
   "metadata": {},
   "outputs": [],
   "source": [
    "plt.scatter(X_test, y_test, color='red')\n",
    "plt.plot(X_test, y_pred, color='black', linewidth=3)\n",
    "plt.show()"
   ]
  },
  {
   "cell_type": "markdown",
   "metadata": {},
   "source": [
    "The final step is to evaluate the performance of the algorithm. This step is particularly important to compare how well different algorithms perform on a particular dataset. For regression algorithms, three evaluation metrics are commonly used."
   ]
  },
  {
   "cell_type": "code",
   "execution_count": null,
   "metadata": {},
   "outputs": [],
   "source": [
    "from sklearn import metrics\n",
    "\n",
    "# compute performance metrics\n",
    "print(\"Mean absolute error =\", round(metrics.mean_absolute_error(y_test, y_pred), 2))\n",
    "print(\"Mean squared error =\", round(metrics.mean_squared_error(y_test, y_pred), 2))\n",
    "print(\"Root Mean Squared Error =\", round(np.sqrt(metrics.mean_squared_error(y_test, y_pred)), 2))\n",
    "print(\"R2 score =\", round(metrics.r2_score(y_test, y_pred), 2))"
   ]
  }
 ],
 "metadata": {
  "kernelspec": {
   "display_name": "Python 3",
   "language": "python",
   "name": "python3"
  },
  "language_info": {
   "codemirror_mode": {
    "name": "ipython",
    "version": 3
   },
   "file_extension": ".py",
   "mimetype": "text/x-python",
   "name": "python",
   "nbconvert_exporter": "python",
   "pygments_lexer": "ipython3",
   "version": "3.8.5"
  }
 },
 "nbformat": 4,
 "nbformat_minor": 2
}
