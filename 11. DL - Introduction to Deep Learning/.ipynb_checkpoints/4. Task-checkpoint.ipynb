{
 "cells": [
  {
   "cell_type": "markdown",
   "metadata": {},
   "source": [
    "# Task DL. The Colruyt Deep Learning Challenge\n",
    "\n",
    "- Student name:\n",
    "- Number:\n",
    "\n",
    "Last year, you probably heard about a pilot project of Colruyt, one of the largest supermarket chains in Belgium. Since August 2019, Colruyt has been using Deep Learning in two of its supermarkets to recognize fruit and vegetables and weight them automatically. Now it's up to you to build and train such an image recognition system yourself.\n",
    "\n",
    "*__We are also going to do a small competition.__ Try to achieve an accuracy as high as possible. During the last lesson, we will give you 20 images of fruits. The student who can classify the most images correctly wins the competition. In case of an ex aequo, the student with the highest accuracy wins. Eternal fame will be his part.*\n",
    "\n",
    "You can read and watch the news item on vrt via the link below (in Dutch).\n",
    "\n",
    "<a href=\"https://www.vrt.be/vrtnws/nl/2019/08/08/productherkenning-in-de-colruyt/\">vrt NWS</a>\n",
    "\n",
    "Colruyt made a little video which you can watch below."
   ]
  },
  {
   "cell_type": "code",
   "execution_count": 1,
   "metadata": {},
   "outputs": [
    {
     "data": {
      "text/html": [
       "<iframe width=\"640\" height=\"360\" src=\"https://www.youtube.com/embed/RPjt1-ZtTLg?start=0&end=330\" frameborder=\"0\" allow=\"accelerometer; autoplay; encrypted-media; gyroscope; picture-in-picture\" allowfullscreen></iframe>\n"
      ],
      "text/plain": [
       "<IPython.core.display.HTML object>"
      ]
     },
     "metadata": {},
     "output_type": "display_data"
    }
   ],
   "source": [
    "%%HTML\n",
    "<iframe width=\"640\" height=\"360\" src=\"https://www.youtube.com/embed/RPjt1-ZtTLg?start=0&end=330\" frameborder=\"0\" allow=\"accelerometer; autoplay; encrypted-media; gyroscope; picture-in-picture\" allowfullscreen></iframe>"
   ]
  },
  {
   "cell_type": "markdown",
   "metadata": {},
   "source": [
    "## 1. The dataset\n",
    "\n",
    "First you need a large amount of train and test images of fruits. I've downloaded about 500 images of 10 different fruits from https://www.flickr.com/. You can find them in this rar-file:\n",
    "\n",
    "<a href=\"http://taiwan.thomasmore.be/pr2/koen/colruyt_orig.rar\">Colruyt</a>\n",
    "\n",
    "Start by unpacking the training/validation dataset. First have a look at the different folders and images."
   ]
  },
  {
   "cell_type": "markdown",
   "metadata": {},
   "source": [
    "## 2. Binary classification\n",
    "\n",
    "Next, build and train a classifier (like we did with the cats and dogs example). At first make the classification task a little bit simpler with only two fruits (binary = two-class). This will result in lower complexity and hopefully faster training on your laptop.\n",
    "\n",
    "```What two fruits did you select?```\n",
    "\n",
    "```Insert a screenshot of the training process and the final accuracy achieved.```"
   ]
  },
  {
   "cell_type": "code",
   "execution_count": null,
   "metadata": {},
   "outputs": [],
   "source": [
    "# Insert the code for building and training your classifier."
   ]
  },
  {
   "cell_type": "markdown",
   "metadata": {},
   "source": [
    "Download at least ten images of the two fruits (five of each) you selected and see if your model can classify them correctly."
   ]
  },
  {
   "cell_type": "markdown",
   "metadata": {},
   "source": [
    "## 3. Classification with all fruits\n",
    "\n",
    "Now we make things a little more complicated and challenging. Repeat the proces from above with all the (10) classes. It might take some time now to train the model! You also need to change your program because there are 10 classes now.\n",
    "\n",
    "Once you're finished, try to achieve an accuracy as high as possible. This is not an exact science. So you will have to experiment with the parameters of your CNN. Possible things to consider:\n",
    "\n",
    "- the input shape of the images\n",
    "- the number of filters\n",
    "- the use of layers to prevent overfitting\n",
    "- the number of layers\n",
    "- the number of epochs\n",
    "- the number of steps per epoch\n",
    "- ...\n",
    "\n",
    "__It might be a good idea to have a look at some existing famous CNN Architectures for Image Classification (VGGNet, ...), built by researchers around the world. So search the Internet and find some good examples of CNN's and look for some best practices.__\n",
    "\n",
    "This website can be a good start:\n",
    "<a href=\"https://medium.com/datadriveninvestor/five-powerful-cnn-architectures-b939c9ddd57b\">Five Powerful CNN Architectures</a>\n",
    "\n",
    "```Write a small report (10 lines) about the things you've tried to optimize your classifier and which configuration gave the best results. Where did you find the information?```\n",
    "\n",
    "```Insert a screenshot of the training process and the final accuracy achieved.```"
   ]
  },
  {
   "cell_type": "code",
   "execution_count": null,
   "metadata": {},
   "outputs": [],
   "source": [
    "# Insert the code for building and training your classifier."
   ]
  },
  {
   "cell_type": "markdown",
   "metadata": {},
   "source": [
    "## 4. Classify the sample images\n",
    "\n",
    "Now that your classifier is ready, have a look at the images in the `single_images` folder. Write a Python program that automatically retrieves a list of all the images in this folder and classifies these images. Print a list with in the first column the name of the image file and in the second column the recognized fruit. Check how many fruits were classified correctly. Are you ready to compete in our Colruyt Deep Learning Challenge?"
   ]
  },
  {
   "cell_type": "code",
   "execution_count": null,
   "metadata": {},
   "outputs": [],
   "source": [
    "# Insert a list of images and classification\n",
    "# Correct x/20 ?"
   ]
  },
  {
   "cell_type": "markdown",
   "metadata": {},
   "source": [
    "Print your Jupyter Notebook to pdf and upload it via Canvas."
   ]
  },
  {
   "cell_type": "code",
   "execution_count": null,
   "metadata": {},
   "outputs": [],
   "source": []
  }
 ],
 "metadata": {
  "kernelspec": {
   "display_name": "Python 3",
   "language": "python",
   "name": "python3"
  },
  "language_info": {
   "codemirror_mode": {
    "name": "ipython",
    "version": 3
   },
   "file_extension": ".py",
   "mimetype": "text/x-python",
   "name": "python",
   "nbconvert_exporter": "python",
   "pygments_lexer": "ipython3",
   "version": "3.7.3"
  }
 },
 "nbformat": 4,
 "nbformat_minor": 2
}
