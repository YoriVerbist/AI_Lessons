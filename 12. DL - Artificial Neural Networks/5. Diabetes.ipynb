{
 "cells": [
  {
   "cell_type": "markdown",
   "metadata": {},
   "source": [
    "# Diabetes - Exercise\n",
    "\n",
    "As you know by now, Deep Learning models are built using neural networks. A neural network takes in inputs, which are then processed in hidden layers using weights that are adjusted during training. Then the model spits out a prediction. They can be used to classify images, but we can build models for other classification tasks as well.\n",
    "\n",
    "In this Notebook we will build a Neural Network Classifier to predict if patients have diabetes or not."
   ]
  },
  {
   "cell_type": "markdown",
   "metadata": {},
   "source": [
    "## 1. Import packages and read the data\n",
    "\n",
    "In the resources you will find a file `diabetes.csv` which includes the dataset. First use Pandas to read the data into a dataframe. This should be no problem by now. Print the first five lines of the dataset."
   ]
  },
  {
   "cell_type": "code",
   "execution_count": 1,
   "metadata": {},
   "outputs": [],
   "source": [
    "import pandas as pd\n",
    "import numpy as np\n",
    "\n",
    "import tensorflow as tf\n",
    "from tensorflow import keras"
   ]
  },
  {
   "cell_type": "code",
   "execution_count": null,
   "metadata": {},
   "outputs": [],
   "source": [
    "# read in training data\n",
    "\n",
    "\n",
    "# view data structure\n",
    "\n"
   ]
  },
  {
   "cell_type": "markdown",
   "metadata": {},
   "source": [
    "As you can see above there are two possible outcomes, 0 and 1. 0 means \"no diabetes\" and 1 means \"diabetes\". For better understanding, create an array `class_names` with the two possible outcomes. We will use this array later to convert 0 to 'No diabetes' and 1 to 'Diabetes'."
   ]
  },
  {
   "cell_type": "code",
   "execution_count": null,
   "metadata": {},
   "outputs": [],
   "source": [
    "class_names = ['No diabetes', 'Diabetes']"
   ]
  },
  {
   "cell_type": "markdown",
   "metadata": {},
   "source": [
    "## 2. Split the data\n",
    "\n",
    "First create X, a matrix with the input features (you can take them all, from \"Pregnancies\" through \"Age\") and y, with the target variable (\"Outcome\" in this case).\n",
    "\n",
    "Next you'll have to split the data in a training set (80%) and testing set (20%). This can be easily done using sklearn. Use the naming conventions for train and test data: `X_train`, `X_test`, ..."
   ]
  },
  {
   "cell_type": "code",
   "execution_count": null,
   "metadata": {},
   "outputs": [],
   "source": [
    "# data splicing\n",
    "\n"
   ]
  },
  {
   "cell_type": "markdown",
   "metadata": {},
   "source": [
    "Print `X_train` and `y_train` to see if everything is ok."
   ]
  },
  {
   "cell_type": "code",
   "execution_count": null,
   "metadata": {},
   "outputs": [],
   "source": [
    "# X_train\n",
    "\n"
   ]
  },
  {
   "cell_type": "code",
   "execution_count": null,
   "metadata": {},
   "outputs": [],
   "source": [
    "# y_train\n",
    "\n"
   ]
  },
  {
   "cell_type": "markdown",
   "metadata": {},
   "source": [
    "Also print the number of columns in the train data. This should be 8. Save this value in a variable `number_cols`."
   ]
  },
  {
   "cell_type": "code",
   "execution_count": null,
   "metadata": {},
   "outputs": [],
   "source": [
    "\n"
   ]
  },
  {
   "cell_type": "code",
   "execution_count": null,
   "metadata": {},
   "outputs": [],
   "source": [
    "# get number of columns in training data\n",
    "\n"
   ]
  },
  {
   "cell_type": "markdown",
   "metadata": {},
   "source": [
    "## 3. Build the model\n",
    "\n",
    "Now create the Keras model. It is a Sequential model. First insert a Flatten layer, since there's no 2x2 image use `input_shape=(number_cols, )`. The second layer has 250 neurons and the activation function is relu. The third layer has 250 neurons and the activation function is relu as well. Use softmax for the fourth layer."
   ]
  },
  {
   "cell_type": "code",
   "execution_count": null,
   "metadata": {},
   "outputs": [],
   "source": [
    "# create model\n",
    "\n"
   ]
  },
  {
   "cell_type": "markdown",
   "metadata": {},
   "source": [
    "## 4. Compile and train the model\n",
    "\n",
    "Compile the model with the Adam optimizer, sparse_categorical_crossentropy as loss function and accuracy metrics. Train the model with the train data. Use 30 epochs and print the accuracy of the test data after every epoch."
   ]
  },
  {
   "cell_type": "code",
   "execution_count": null,
   "metadata": {},
   "outputs": [],
   "source": [
    "# compile the model\n",
    "\n",
    "\n",
    "# train the model\n",
    "\n"
   ]
  },
  {
   "cell_type": "markdown",
   "metadata": {},
   "source": [
    "## 5. Make predictions\n",
    "\n",
    "With the model trained, we can use it to make predictions. Check the risk of diabetes for the following patients:\n",
    "\n",
    "<table>\n",
    "<tr><th>Pregnancies</th><th>Glucose</th><th>BloodPressure</th><th>SkinThickness</th><th>Insulin</th><th>BMI</th><th>DiabetesPedigreeFunction</th><th>Age</th></tr>\n",
    "<tr><td>2</td><td>180</td><td>76</td><td>43</td><td>0</td><td>42.2</td><td>1.236</td><td>22</td></tr>\n",
    "<tr><td>1</td><td>95</td><td>74</td><td>30</td><td>100</td><td>34.1</td><td>0.401</td><td>23</td></tr>\n",
    "<tr><td>0</td><td>110</td><td>65</td><td>0</td><td>0</td><td>23.9</td><td>0.566</td><td>31</td></tr>\n",
    "</table>\n",
    "\n",
    "The output should be something like this:\n",
    "```\n",
    "Patient 1: Diabetes (95.43%)\n",
    "Patient 2: No diabetes (94.50%)\n",
    "Patient 3: No diabetes (76.35%)\n",
    "```"
   ]
  },
  {
   "cell_type": "code",
   "execution_count": null,
   "metadata": {},
   "outputs": [],
   "source": []
  },
  {
   "cell_type": "code",
   "execution_count": null,
   "metadata": {},
   "outputs": [],
   "source": []
  }
 ],
 "metadata": {
  "celltoolbar": "Raw Cell Format",
  "kernelspec": {
   "display_name": "Python 3",
   "language": "python",
   "name": "python3"
  },
  "language_info": {
   "codemirror_mode": {
    "name": "ipython",
    "version": 3
   },
   "file_extension": ".py",
   "mimetype": "text/x-python",
   "name": "python",
   "nbconvert_exporter": "python",
   "pygments_lexer": "ipython3",
   "version": "3.8.5"
  }
 },
 "nbformat": 4,
 "nbformat_minor": 2
}
