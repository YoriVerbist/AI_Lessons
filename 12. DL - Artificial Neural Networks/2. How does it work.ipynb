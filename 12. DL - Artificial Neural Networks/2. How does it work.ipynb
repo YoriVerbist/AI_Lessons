{
 "cells": [
  {
   "cell_type": "markdown",
   "metadata": {},
   "source": [
    "# How does a Neural Network actually work?\n",
    "\n",
    "We already know that a neural network is a type of machine learning which models itself after the human brain. This creates an Artificial Neural Network that via an algorithm allows the computer to learn by incorporating new data."
   ]
  },
  {
   "cell_type": "markdown",
   "metadata": {},
   "source": [
    "## 1. Key principles\n",
    "\n",
    "In the first video (from 0:00 till 13:26) the key principles of a neural network will be explained using the classic example of putting together a neural network that can learn to recognize handwritten digits. There will be a little bit of math in the video, but I tried to skip the most. The second video will then explain how the network is trained."
   ]
  },
  {
   "cell_type": "code",
   "execution_count": 1,
   "metadata": {
    "scrolled": false
   },
   "outputs": [
    {
     "data": {
      "text/html": [
       "<iframe width=\"560\" height=\"315\" src=\"https://www.youtube.com/embed/aircAruvnKk?start=4&end=806\" frameborder=\"0\" allow=\"accelerometer; autoplay; encrypted-media; gyroscope; picture-in-picture\" allowfullscreen></iframe>\n"
      ],
      "text/plain": [
       "<IPython.core.display.HTML object>"
      ]
     },
     "metadata": {},
     "output_type": "display_data"
    }
   ],
   "source": [
    "%%HTML\n",
    "<iframe width=\"560\" height=\"315\" src=\"https://www.youtube.com/embed/aircAruvnKk?start=4&end=806\" frameborder=\"0\" allow=\"accelerometer; autoplay; encrypted-media; gyroscope; picture-in-picture\" allowfullscreen></iframe>"
   ]
  },
  {
   "cell_type": "markdown",
   "metadata": {},
   "source": [
    "## 2. Summary \n",
    "\n",
    "### 2.1 Neuron\n",
    "\n",
    "A neuron is a *thing* that holds a number between 0 and 1. The value of a neuron is also called its activation.\n",
    "\n",
    "<img src=\"./resources/ANN1.png\"  style=\"height: 150px\"/>\n",
    "\n",
    "### 2.2 The four layered structure of our network\n",
    "\n",
    "- The first layer consist of 28x28=784 neurons. The value of each neuron is the grey scale of the pixel (ex 0.58). \n",
    "- The last layer consist of 10 neurons. The value of each neuron corresponds to how much the system thinks that a given image corresponds to the given digit.\n",
    "- The first hidden layer might try to recognize the various little edges.\n",
    "- The second hidden layer might try to recognize the patterns the digits are made up from.\n",
    "\n",
    "<img src=\"./resources/ANN2.png\"  style=\"height: 400px\"/>\n",
    "\n",
    "### 2.3 The parameters of the network\n",
    "\n",
    "- Assign a weight to every edge which connects our neuron with the neurons of the first layer.\n",
    "- Take all the activations of the first layer and compute the weighted sum according to these weights.\n",
    "- Activations should be a value between 0 and 1. Use a function (sigmoid) to convert the weighted sum to a value between 0 and 1.\n",
    "- The bias tells you how high the weighted sum needs to be before the neuron is activated.\n",
    "\n",
    "<img src=\"./resources/ANN3.png\"  style=\"height: 350px\"/>"
   ]
  },
  {
   "cell_type": "markdown",
   "metadata": {},
   "source": [
    "## 3. How do Neural Networks learn?\n",
    "\n",
    "Learning is the adaptation of the network to better handle a task - in our case recognizing digits - by considering sample observations. Learning involves adjusting the weights and biases of the network to improve the accuracy of the result. This is done by minimizing the average cost.\n",
    "\n",
    "This will be explainded in detail in the video below (from 0:29 till 5:21)."
   ]
  },
  {
   "cell_type": "code",
   "execution_count": 8,
   "metadata": {
    "scrolled": true
   },
   "outputs": [
    {
     "data": {
      "text/html": [
       "<iframe width=\"560\" height=\"315\" src=\"https://www.youtube.com/embed/IHZwWFHWa-w?start=29&end=321\" frameborder=\"0\" allow=\"accelerometer; autoplay; encrypted-media; gyroscope; picture-in-picture\" allowfullscreen></iframe>\n"
      ],
      "text/plain": [
       "<IPython.core.display.HTML object>"
      ]
     },
     "metadata": {},
     "output_type": "display_data"
    }
   ],
   "source": [
    "%%HTML\n",
    "<iframe width=\"560\" height=\"315\" src=\"https://www.youtube.com/embed/IHZwWFHWa-w?start=29&end=321\" frameborder=\"0\" allow=\"accelerometer; autoplay; encrypted-media; gyroscope; picture-in-picture\" allowfullscreen></iframe>"
   ]
  },
  {
   "cell_type": "markdown",
   "metadata": {},
   "source": [
    "## 4. Summary\n",
    "\n",
    "### 4.1 Learning\n",
    "\n",
    "In total the network has 13,002 weights and biases that we can adjust. These values determine what exactly the network does. Training the network means finding the right weights and biases.\n",
    "\n",
    "<img src=\"./resources/ANN4.png\"  style=\"height: 250px\"/>\n",
    "\n",
    "### 4.2 Training the network\n",
    "\n",
    "- First all the weights and biases are initialized randomly. The network is going to perform horribly.\n",
    "\n",
    "- The cost function adds up the squares of the differences between the values of the predicted activations and the values we want them to have. This sum is small when the network classifies the image correctly.\n",
    "- The average cost over all of the training examples is a measurement of how good the network is.\n",
    "- Training/learning involves adjusting the weights and biases of the network to improve the accuracy of the result. This is done by minimizing the average cost.\n",
    "\n",
    "<img src=\"./resources/ANN5.png\"  style=\"height: 350px\"/>\n",
    "\n",
    "### 4.3 Testing the network\n",
    "\n",
    "- After we trained the network, we show it more labeled data that it has never seen before. We see how accurate it classifies these new images.\n",
    "\n",
    "<img src=\"./resources/ANN6.png\"  style=\"height: 350px\"/>\n"
   ]
  },
  {
   "cell_type": "markdown",
   "metadata": {},
   "source": [
    "## 5. Math\n",
    "\n",
    "By now we know the very basics of the structure of a Neural Network and how it can be trained. A complete in depth explanation will require a lot of math. Therefore we will not dig any deeper. But to conclude this Notebook, you should remember these two definitions.\n",
    "\n",
    "- __Gradient descent__ is a iterative optimization algorithm for finding a set of weights and biases which make the cost as small as possible.\n",
    "- __Backpropagation__ is a recursive and efficient method for calculating the weights updates to improve the network until it is able to perform the task for which it is being trained."
   ]
  }
 ],
 "metadata": {
  "kernelspec": {
   "display_name": "Python 3",
   "language": "python",
   "name": "python3"
  },
  "language_info": {
   "codemirror_mode": {
    "name": "ipython",
    "version": 3
   },
   "file_extension": ".py",
   "mimetype": "text/x-python",
   "name": "python",
   "nbconvert_exporter": "python",
   "pygments_lexer": "ipython3",
   "version": "3.7.3"
  }
 },
 "nbformat": 4,
 "nbformat_minor": 2
}
