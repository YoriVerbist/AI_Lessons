{
 "cells": [
  {
   "cell_type": "markdown",
   "metadata": {},
   "source": [
    "# Shortest path algorithm (Dijkstra)\n",
    "\n",
    "*What is the shortest way to travel from Rotterdam to Groningen? It is the algorithm for the shortest path, which I designed in about twenty minutes. One morning I was shopping in Amsterdam with my young fiancée, and tired, we sat down on the café terrace to drink a cup of coffee and I was just thinking about whether I could do this, and I then designed the algorithm for the shortest path. As I said, it was a twenty-minute invention.*\n",
    "\n",
    "Edsger Dijkstra, in an interview with Philip L. Frana, Communications of the ACM, 2001\n",
    "\n",
    "Watch the video (from 0:00 till 9:17)."
   ]
  },
  {
   "cell_type": "code",
   "execution_count": 1,
   "metadata": {
    "scrolled": false
   },
   "outputs": [
    {
     "data": {
      "text/html": [
       "<iframe width=\"560\" height=\"315\" src=\"https://www.youtube.com/embed/pVfj6mxhdMw?start=0&end=557\" frameborder=\"0\" allow=\"accelerometer; autoplay; encrypted-media; gyroscope; picture-in-picture\" allowfullscreen></iframe>\n"
      ],
      "text/plain": [
       "<IPython.core.display.HTML object>"
      ]
     },
     "metadata": {},
     "output_type": "display_data"
    }
   ],
   "source": [
    "%%HTML\n",
    "<iframe width=\"560\" height=\"315\" src=\"https://www.youtube.com/embed/pVfj6mxhdMw?start=0&end=557\" frameborder=\"0\" allow=\"accelerometer; autoplay; encrypted-media; gyroscope; picture-in-picture\" allowfullscreen></iframe>"
   ]
  },
  {
   "cell_type": "markdown",
   "metadata": {},
   "source": [
    "## 1. The result of Dijkstra's algorithm\n",
    "\n",
    "Find the shortest path from vertex __A__ to every other vertex. For example from A to C (table lookup backwards from C to A):\n",
    "\n",
    "<img src=\"./resources/dijkstra.png\"  style=\"height: 315px\"/>"
   ]
  },
  {
   "cell_type": "markdown",
   "metadata": {},
   "source": [
    "## 2. Exercise\n",
    "\n",
    "Dijkstra's Algorithm allows you to calculate the shortest path between one node and every other node in the graph. Can you calculate the shortest path between node A and the other nodes in our graph by applying the shortest path algorithm? Use pencil and paper to write down the different iterations.\n",
    "\n",
    "<img src=\"./resources/exd.png\"  style=\"height: 200px\"/>"
   ]
  },
  {
   "cell_type": "code",
   "execution_count": null,
   "metadata": {},
   "outputs": [],
   "source": [
    "# vertex  |  shortest distance from A  |  previous vertex\n",
    "# A       |                            |\n",
    "# B       |                            |\n",
    "# C       |                            |\n",
    "# D       |                            |\n",
    "# E       |                            |"
   ]
  }
 ],
 "metadata": {
  "kernelspec": {
   "display_name": "Python 3",
   "language": "python",
   "name": "python3"
  },
  "language_info": {
   "codemirror_mode": {
    "name": "ipython",
    "version": 3
   },
   "file_extension": ".py",
   "mimetype": "text/x-python",
   "name": "python",
   "nbconvert_exporter": "python",
   "pygments_lexer": "ipython3",
   "version": "3.7.3"
  }
 },
 "nbformat": 4,
 "nbformat_minor": 2
}
