{
 "cells": [
  {
   "cell_type": "markdown",
   "metadata": {},
   "source": [
    "# The Unbeatable Tic Tac Toe\n",
    "\n",
    "Now that we understand the Minimax algoritm, we are going to use Minimax to program the unbeatbale Tic Tac Toe. We could do that ourselfes (using our knowledge of recursion), but since this would be a little difficult, we will be using a library called easyAI. It is an artificial intelligence framework and it provides all the functionality necessary to build two-player games."
   ]
  },
  {
   "cell_type": "markdown",
   "metadata": {},
   "source": [
    "## 1. Installation\n",
    "\n",
    "First install the library using following command:"
   ]
  },
  {
   "cell_type": "code",
   "execution_count": 1,
   "metadata": {},
   "outputs": [
    {
     "name": "stdout",
     "output_type": "stream",
     "text": [
      "Requirement already satisfied: easyAI in c:\\users\\u0063152\\appdata\\local\\continuum\\anaconda3\\lib\\site-packages (1.0.0.4)\n",
      "Note: you may need to restart the kernel to use updated packages.\n"
     ]
    }
   ],
   "source": [
    "pip install easyAI"
   ]
  },
  {
   "cell_type": "markdown",
   "metadata": {},
   "source": [
    "2. Since for chess the game tree is to big (branching factor is to high), what can you do to solve this?"
   ]
  },
  {
   "cell_type": "code",
   "execution_count": null,
   "metadata": {},
   "outputs": [
    {
     "name": "stdout",
     "output_type": "stream",
     "text": [
      "\n",
      ". . .\n",
      ". . .\n",
      ". . .\n",
      "\n",
      "Player 1 what do you play ? 1\n",
      "\n",
      "Move #1: player 1 plays 1 :\n",
      "\n",
      "O . .\n",
      ". . .\n",
      ". . .\n",
      "\n",
      "Move #2: player 2 plays 5 :\n",
      "\n",
      "O . .\n",
      ". X .\n",
      ". . .\n",
      "\n",
      "Player 1 what do you play ? 2\n",
      "\n",
      "Move #3: player 1 plays 2 :\n",
      "\n",
      "O O .\n",
      ". X .\n",
      ". . .\n",
      "\n",
      "Move #4: player 2 plays 3 :\n",
      "\n",
      "O O X\n",
      ". X .\n",
      ". . .\n",
      "\n",
      "Player 1 what do you play ? 7\n",
      "\n",
      "Move #5: player 1 plays 7 :\n",
      "\n",
      "O O X\n",
      ". X .\n",
      "O . .\n",
      "\n",
      "Move #6: player 2 plays 4 :\n",
      "\n",
      "O O X\n",
      "X X .\n",
      "O . .\n",
      "\n",
      "Player 1 what do you play ? 6\n",
      "\n",
      "Move #7: player 1 plays 6 :\n",
      "\n",
      "O O X\n",
      "X X O\n",
      "O . .\n",
      "\n",
      "Move #8: player 2 plays 8 :\n",
      "\n",
      "O O X\n",
      "X X O\n",
      "O X .\n"
     ]
    }
   ],
   "source": [
    "from easyAI import TwoPlayersGame, Human_Player, AI_Player, Negamax\n",
    "\n",
    "class TicTacToe( TwoPlayersGame ):\n",
    "    \"\"\" The board positions are numbered as follows:\n",
    "            7 8 9\t(ik denk dat de eerste en laatste rij moeten omgekeerd worden)\n",
    "            4 5 6\n",
    "            1 2 3\n",
    "    \"\"\"    \n",
    "\n",
    "    def __init__(self, players):\n",
    "        self.players = players\n",
    "        self.board = [0 for i in range(9)]\n",
    "        self.nplayer = 1 # player 1 starts.\n",
    "    \n",
    "    def possible_moves(self):\n",
    "        return [i+1 for i,e in enumerate(self.board) if e==0]\n",
    "    \n",
    "    def make_move(self, move):\n",
    "        self.board[int(move)-1] = self.nplayer\n",
    "\n",
    "    def unmake_move(self, move): # optional method (speeds up the AI)\n",
    "        self.board[int(move)-1] = 0\n",
    "    \n",
    "    def lose(self):\n",
    "        \"\"\" Has the opponent \"three in line ?\" \"\"\"\n",
    "        return any( [all([(self.board[c-1]== self.nopponent)\n",
    "                      for c in line])\n",
    "                      for line in [[1,2,3],[4,5,6],[7,8,9], # horiz.\n",
    "                                   [1,4,7],[2,5,8],[3,6,9], # vertical\n",
    "                                   [1,5,9],[3,5,7]]]) # diagonal\n",
    "        \n",
    "    def is_over(self):\n",
    "        return (self.possible_moves() == []) or self.lose()\n",
    "        \n",
    "    def show(self):\n",
    "        print ('\\n'+'\\n'.join([\n",
    "                        ' '.join([['.','O','X'][self.board[3*j+i]]\n",
    "                        for i in range(3)])\n",
    "                 for j in range(3)]) )\n",
    "                 \n",
    "    def scoring(self):\n",
    "        return -100 if self.lose() else 0\n",
    "\n",
    "ai = Negamax(6) # The AI will think 6 moves in advance\n",
    "game = TicTacToe( [Human_Player(),AI_Player(ai)])\n",
    "history = game.play()"
   ]
  },
  {
   "cell_type": "markdown",
   "metadata": {},
   "source": [
    "## 3. Final states\n",
    "\n",
    "In Tic Tac Toe there are 3 final states (X wins, 0 wins, draw). Assume we are playing with X, we definitely would like X to be the winner of the game. So we will give the state in which X wins a positive value of +1. In case O wins, the value will be -1. In case of a draw the value will be zero.\n",
    "\n",
    "1. X wins the game (value __+1__):\n",
    "<img src=\"./resources/xwins.png\"  style=\"height: 100px\"/>\n",
    "\n",
    "2. O wins the game (value __-1__):\n",
    "<img src=\"./resources/owins.png\"  style=\"height: 100px\"/>\n",
    "\n",
    "3. Draw (value __0__):\n",
    "<img src=\"./resources/draw.png\"  style=\"height: 100px\"/>"
   ]
  },
  {
   "cell_type": "markdown",
   "metadata": {},
   "source": [
    "## 4. Game tree\n",
    "\n",
    "Given a board state at certain point in time:\n",
    "\n",
    "<img src=\"./resources/initial.png\"  style=\"height: 100px\"/>\n",
    "\n",
    "To determine what is the best move (assume we are playing with X), first draw a game tree with all possible board states. Then label every final state with the values from above:\n",
    "\n",
    "<img src=\"./resources/tictactoetree.png\"  style=\"height: 600px\"/>"
   ]
  },
  {
   "cell_type": "markdown",
   "metadata": {},
   "source": [
    "As you can see above, starting from the initial state 0.0, we have 3 possibilities (1.0, 1.1, 1.2).\n",
    "\n",
    "- 1.0 gives us a win (+1), but let’s explore other paths as well\n",
    "- 1.1 gives our opponent 2 possibilities (2.0, 2.1)\n",
    "    * 2.0 is a winning state for our opponent, so it’s a losing state for us (-1)\n",
    "    * 2.1 gives only one possibility 3.0 in which we are winning (+1)\n",
    "- 1.2 gives our opponent 2 possibilities (2.2, 2.3)\n",
    "    * 2.2 is a winning state for our opponent, so it’s a losing state for us (-1)\n",
    "    * 2.3 gives only one possibility 3.1 in which we are winning (+1)."
   ]
  },
  {
   "cell_type": "markdown",
   "metadata": {},
   "source": [
    "## 5. Minimax\n",
    "\n",
    "To determine what is the best move for X, the only thing you have to do is to apply the MiniMax algorithm to the labeled values. __Remember__: X (red player) tries to win, so will pick the positive values. O (blue player) also tries to win, but takes the negative ones:\n",
    "\n",
    "<img src=\"./resources/minimaxtree.png\"  style=\"height: 300px\"/>\n",
    "\n",
    "- At the depth 3 we are maximizing, so we are propagating +1 scores to the previous moves at the depth 2.\n",
    "- At the depth 2 we are minimizing so we are propagating -1 scores to the previous moves at the depth 1.\n",
    "- At the depth 1 we are maximizing so we are propagating +1 to the previous move at the depth 0.\n",
    "- Ultimately at the depth 0, where we actually are, we should pick the move associated with the +1 and winning the game.\n",
    "\n",
    "__Remark__: In the example, we used a far advanced initial game state (otherwise the game tree would be to big to draw). As a result the search for the most optimal move for X was a little bit overkill."
   ]
  }
 ],
 "metadata": {
  "kernelspec": {
   "display_name": "Python 3",
   "language": "python",
   "name": "python3"
  },
  "language_info": {
   "codemirror_mode": {
    "name": "ipython",
    "version": 3
   },
   "file_extension": ".py",
   "mimetype": "text/x-python",
   "name": "python",
   "nbconvert_exporter": "python",
   "pygments_lexer": "ipython3",
   "version": "3.7.3"
  }
 },
 "nbformat": 4,
 "nbformat_minor": 2
}
