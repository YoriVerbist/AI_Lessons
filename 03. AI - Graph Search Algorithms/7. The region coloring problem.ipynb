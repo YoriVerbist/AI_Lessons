{
 "cells": [
  {
   "cell_type": "markdown",
   "metadata": {},
   "source": [
    "# The region coloring problem - Exercise\n",
    "\n",
    "Let's use the constraint satisfaction framework to solve a region coloring problem. Consider the following map:\n",
    "\n",
    "<img src=\"./resources/mapempty.png\"  style=\"height: 400px\"/>\n",
    "\n",
    "We have a few regions in the preceding figure that are labeled with fictional country names. Our goal is to color the map with four colors so that no adjacent countries have the same color."
   ]
  },
  {
   "cell_type": "markdown",
   "metadata": {},
   "source": [
    "First import the classes, define the variables (the names of the countries) and the possible values (colors) that every variable (country) can take. There are four colors: red, green, blue and gray."
   ]
  },
  {
   "cell_type": "code",
   "execution_count": 1,
   "metadata": {},
   "outputs": [
    {
     "name": "stdout",
     "output_type": "stream",
     "text": [
      "Collecting simpleai\n",
      "  Downloading simpleai-0.8.2.tar.gz (94 kB)\n",
      "\u001b[K     |████████████████████████████████| 94 kB 1.2 MB/s eta 0:00:011\n",
      "\u001b[?25hBuilding wheels for collected packages: simpleai\n",
      "  Building wheel for simpleai (setup.py) ... \u001b[?25ldone\n",
      "\u001b[?25h  Created wheel for simpleai: filename=simpleai-0.8.2-py3-none-any.whl size=100979 sha256=c68e73c103178be73e21ff62871a682c9e0e1fcc09e260d747b5d9ea34a4402b\n",
      "  Stored in directory: /home/yori/.cache/pip/wheels/e9/48/2f/b6b8ce34c70c59e706efc9770d05334cf76f110296a95c2dd3\n",
      "Successfully built simpleai\n",
      "Installing collected packages: simpleai\n",
      "Successfully installed simpleai-0.8.2\n",
      "Note: you may need to restart the kernel to use updated packages.\n"
     ]
    }
   ],
   "source": [
    "pip install simpleai"
   ]
  },
  {
   "cell_type": "code",
   "execution_count": 3,
   "metadata": {},
   "outputs": [],
   "source": [
    "from simpleai.search import CspProblem, backtrack\n",
    "variables = (\"Wakanda\", \"Latveria\", \"Genosha\", \"Madripoor\", \n",
    "             \"Sokavia\", \"Akima\", \"Transia\", \"Symkaria\", \n",
    "             \"Atlantis\", \"Canaan\", \"Murkatesh\"\n",
    "            )\n",
    "domains = {\n",
    "    \"Wakanda\": ['red', 'green', 'blue', 'gray'],\n",
    "    \"Latveria\": ['red', 'green', 'blue', 'gray'],\n",
    "    \"Genosha\": ['red', 'green', 'blue', 'gray'],\n",
    "    \"Madripoor\": ['red', 'green', 'blue', 'gray'],\n",
    "    \"Sokavia\": ['red', 'green', 'blue', 'gray'],\n",
    "    \"Akima\": ['red', 'green', 'blue', 'gray'],\n",
    "    \"Transia\": ['red', 'green', 'blue', 'gray'],\n",
    "    \"Symkaria\": ['red', 'green', 'blue', 'gray'],\n",
    "    \"Atlantis\": ['red', 'green', 'blue', 'gray'],\n",
    "    \"Canaan\": ['red', 'green', 'blue', 'gray'],\n",
    "    \"Murkatesh\": ['red', 'green', 'blue', 'gray'],\n",
    "}"
   ]
  },
  {
   "cell_type": "markdown",
   "metadata": {},
   "source": [
    "Define the constraint function that imposes that two neighbors should be colored differently. Apply the constraint for every pair of countries from the map above."
   ]
  },
  {
   "cell_type": "code",
   "execution_count": 4,
   "metadata": {},
   "outputs": [
    {
     "name": "stdout",
     "output_type": "stream",
     "text": [
      "\n",
      "Solutions: {'Wakanda': 'red', 'Latveria': 'green', 'Genosha': 'red', 'Madripoor': 'blue', 'Sokavia': 'red', 'Akima': 'green', 'Transia': 'blue', 'Symkaria': 'red', 'Atlantis': 'green', 'Canaan': 'gray', 'Murkatesh': 'red'}\n"
     ]
    }
   ],
   "source": [
    "\n",
    "def constraint_unique(variables,values):\n",
    "    for i in range(1,len(values)):\n",
    "        if(values[0] == values[i]):\n",
    "            return False\n",
    "    return True\n",
    "\n",
    "constraints = [\n",
    "    (('Wakanda','Latveria','Madripoor'), constraint_unique),\n",
    "    (('Sokovia','Madripoor','Atlantis'), constraint_unique),\n",
    "    (('Genosha','Latveria','Transia','Akima'), constraint_unique),\n",
    "    (('Murkatesh','Canaan','Transia','Akima'), constraint_unique),    \n",
    "    (('Akima','Murkatesh','Genosha','Transia'), constraint_unique),\n",
    "    (('Atlantis','Sokovia','Madripoor','Symkaria','Canaan'), constraint_unique),\n",
    "    (('Canaan','Atlantis','Symkaria','Transia','Murkatesh'), constraint_unique),\n",
    "    (('Latveria','Wakanda','Madripoor','Symkaria','Transia', 'Genosha'), constraint_unique),\n",
    "    (('Madripoor','Symkaria','Wakanda','Latveria','Sokovia','Atlantis'), constraint_unique),\n",
    "    (('Symkaria','Madripoor','Latveria','Transia','Canaan','Atlantis'), constraint_unique),\n",
    "    (('Transia','Symkaria','Latveria','Genosha','Akima','Murkatesh', 'Canaan'), constraint_unique),\n",
    "]\n",
    "\n",
    "    \n",
    "problem = CspProblem(variables, domains, constraints)\n",
    "\n",
    "output = backtrack(problem)\n",
    "print('\\nSolutions:', output)"
   ]
  },
  {
   "cell_type": "markdown",
   "metadata": {},
   "source": [
    "And finaly search for a solution and print it (something like this: \"Wakanda ==> red, ...\"). You can iterate over the solution as follows\n",
    "\n",
    "```python\n",
    "for country, color in output.items():\n",
    "```"
   ]
  },
  {
   "cell_type": "code",
   "execution_count": 5,
   "metadata": {},
   "outputs": [
    {
     "name": "stdout",
     "output_type": "stream",
     "text": [
      "Wakanda  ->  red\n",
      "Latveria  ->  green\n",
      "Genosha  ->  red\n",
      "Madripoor  ->  blue\n",
      "Sokavia  ->  red\n",
      "Akima  ->  green\n",
      "Transia  ->  blue\n",
      "Symkaria  ->  red\n",
      "Atlantis  ->  green\n",
      "Canaan  ->  gray\n",
      "Murkatesh  ->  red\n"
     ]
    }
   ],
   "source": [
    "for country, color in output.items():\n",
    "    print(country, ' -> ', color )\n"
   ]
  },
  {
   "cell_type": "markdown",
   "metadata": {},
   "source": [
    "Use Paint or Photoshop to color the map with the colors from the solution and check that no two adjacent countries have the same color.\n",
    "\n",
    "Would it be possible to color the map with only three colors?"
   ]
  }
 ],
 "metadata": {
  "kernelspec": {
   "display_name": "Python 3",
   "language": "python",
   "name": "python3"
  },
  "language_info": {
   "codemirror_mode": {
    "name": "ipython",
    "version": 3
   },
   "file_extension": ".py",
   "mimetype": "text/x-python",
   "name": "python",
   "nbconvert_exporter": "python",
   "pygments_lexer": "ipython3",
   "version": "3.8.5"
  }
 },
 "nbformat": 4,
 "nbformat_minor": 2
}
