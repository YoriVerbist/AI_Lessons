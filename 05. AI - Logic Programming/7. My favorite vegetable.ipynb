{
 "cells": [
  {
   "cell_type": "markdown",
   "metadata": {},
   "source": [
    "# My favorite vegetable - Exercise\n",
    "\n",
    "Program the following facts. __Don't use the facts function from Kanren, but make use of the fact (singular) function (do this several times).__\n",
    "\n",
    "- Define a relation food and program these facts: avocado, carrot, tomato and broccoli are food.\n",
    "- Define a relation color and program these facts: carrot is orange, avocado is green, broccoli is green and tomato is red.\n",
    "- Define a relation likes and program these facts: Jeff likes carrot, avocado and baseball, Bill likes avocado and baseball, Steve likes tomato and baseball, Mary likes broccoli and Peter likes baseball.\n"
   ]
  },
  {
   "cell_type": "code",
   "execution_count": 11,
   "metadata": {},
   "outputs": [],
   "source": [
    "# A) Facts\n",
    "from kanren import fact, facts, Relation, run, var\n",
    "\n",
    "food = Relation()\n",
    "color = Relation()\n",
    "like = Relation()\n",
    "\n",
    "fact(food, 'avocado')\n",
    "fact(food, 'carrot')\n",
    "fact(food, 'tomato')\n",
    "fact(food, 'broccoli')\n",
    "\n",
    "fact(color, \"orange\", \"carrot\")\n",
    "fact(color, \"green\", \"avocado\")\n",
    "fact(color, \"green\", \"broccoli\")\n",
    "fact(color, \"red\", \"tomato\")\n",
    "\n",
    "fact(like, 'Jeff', 'carrot')\n",
    "fact(like, 'Jeff', 'avocado')\n",
    "fact(like, 'Jeff', 'baseball')\n",
    "\n",
    "fact(like, 'Bill', 'avocado')\n",
    "fact(like, 'Bill', 'baseball')\n",
    "\n",
    "fact(like, 'Steve', 'tomato')\n",
    "fact(like, 'Steve', 'baseball')\n",
    "\n",
    "fact(like, 'Mary', 'broccoli')\n",
    "\n",
    "fact(like, 'Peter', 'baseball')"
   ]
  },
  {
   "cell_type": "markdown",
   "metadata": {},
   "source": [
    "Program a list of all people who like baseball. The output should be:\n",
    "\n",
    "bill\n",
    "steve\n",
    "jeff\n",
    "peter"
   ]
  },
  {
   "cell_type": "code",
   "execution_count": 13,
   "metadata": {
    "scrolled": true
   },
   "outputs": [
    {
     "name": "stdout",
     "output_type": "stream",
     "text": [
      "('Jeff', 'Steve', 'Bill', 'Peter')\n"
     ]
    }
   ],
   "source": [
    "# B) Who likes baseball?\n",
    "x = var()\n",
    "def likes(x, item):\n",
    "    return like(x, item)\n",
    "\n",
    "output = run(0, x, likes(x, 'baseball'))\n",
    "\n",
    "print(output)"
   ]
  },
  {
   "cell_type": "markdown",
   "metadata": {},
   "source": [
    "Program a list of all people who like food. The output should be:\n",
    "\n",
    "mary\n",
    "steve\n",
    "jeff\n",
    "bill"
   ]
  },
  {
   "cell_type": "code",
   "execution_count": null,
   "metadata": {},
   "outputs": [],
   "source": [
    "# C) Who likes food?\n",
    "\n",
    "def likes(x, item):\n",
    "    return like(x, item)\n",
    "\n",
    "output = run(0, x, likes(x, 'baseball'))\n",
    "\n",
    "print(output)"
   ]
  },
  {
   "cell_type": "markdown",
   "metadata": {},
   "source": [
    "Program a list of all people who like red food. The output should be:\n",
    "\n",
    "steve"
   ]
  },
  {
   "cell_type": "code",
   "execution_count": 15,
   "metadata": {},
   "outputs": [
    {
     "name": "stdout",
     "output_type": "stream",
     "text": [
      "()\n"
     ]
    }
   ],
   "source": [
    "# D) Who likes red food?\n",
    "\n",
    "def likes(x, item):\n",
    "    return like(x, color(x, item))\n",
    "\n",
    "output = run(0, x, likes(x, 'red'))\n",
    "\n",
    "print(output)"
   ]
  },
  {
   "cell_type": "markdown",
   "metadata": {},
   "source": [
    "Program a list of all people who like food with the same color that Mary likes. The output should be:\n",
    "\n",
    "jeff\n",
    "bill"
   ]
  },
  {
   "cell_type": "code",
   "execution_count": null,
   "metadata": {},
   "outputs": [],
   "source": [
    "# E) Who likes food with the same color that Mary likes?\n",
    "\n"
   ]
  },
  {
   "cell_type": "code",
   "execution_count": null,
   "metadata": {},
   "outputs": [],
   "source": []
  }
 ],
 "metadata": {
  "kernelspec": {
   "display_name": "Python 3",
   "language": "python",
   "name": "python3"
  },
  "language_info": {
   "codemirror_mode": {
    "name": "ipython",
    "version": 3
   },
   "file_extension": ".py",
   "mimetype": "text/x-python",
   "name": "python",
   "nbconvert_exporter": "python",
   "pygments_lexer": "ipython3",
   "version": "3.8.5"
  }
 },
 "nbformat": 4,
 "nbformat_minor": 2
}
