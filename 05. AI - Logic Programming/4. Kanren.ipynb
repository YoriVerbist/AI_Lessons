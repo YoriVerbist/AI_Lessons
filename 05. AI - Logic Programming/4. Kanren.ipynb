{
 "cells": [
  {
   "cell_type": "markdown",
   "metadata": {},
   "source": [
    "# Kanren\n",
    "\n",
    "As you should know by now, Python is not really a logical programming language. Before we start logic programming in Python, we need to install Kanren, a Python package that enables logic programming in Python. "
   ]
  },
  {
   "cell_type": "markdown",
   "metadata": {},
   "source": [
    "## 1. Installation\n",
    "\n",
    "First install the library using the following command:"
   ]
  },
  {
   "cell_type": "code",
   "execution_count": 1,
   "metadata": {},
   "outputs": [
    {
     "name": "stdout",
     "output_type": "stream",
     "text": [
      "Collecting kanren\n",
      "  Downloading kanren-0.2.3.tar.gz (23 kB)\n",
      "Collecting multipledispatch\n",
      "  Downloading multipledispatch-0.6.0-py3-none-any.whl (11 kB)\n",
      "Collecting toolz\n",
      "  Downloading toolz-0.11.1-py3-none-any.whl (55 kB)\n",
      "\u001b[K     |████████████████████████████████| 55 kB 4.3 MB/s eta 0:00:011\n",
      "\u001b[?25hCollecting unification\n",
      "  Downloading unification-0.2.2-py2.py3-none-any.whl (10 kB)\n",
      "Requirement already satisfied: six in /home/yori/Documents/School/3ITF/AI/envs/AI/lib/python3.8/site-packages (from multipledispatch->kanren) (1.15.0)\n",
      "Building wheels for collected packages: kanren\n",
      "  Building wheel for kanren (setup.py) ... \u001b[?25ldone\n",
      "\u001b[?25h  Created wheel for kanren: filename=kanren-0.2.3-py3-none-any.whl size=15860 sha256=02c8ed4df3ac9a704ccb0ed98dc97f0a78423e45fde3a91f6930b9503db00309\n",
      "  Stored in directory: /home/yori/.cache/pip/wheels/69/e7/58/f138e1a8e1b6a717490d4c69ed313e46b459fb5bde2a100b9b\n",
      "Successfully built kanren\n",
      "Installing collected packages: multipledispatch, toolz, unification, kanren\n",
      "Successfully installed kanren-0.2.3 multipledispatch-0.6.0 toolz-0.11.1 unification-0.2.2\n",
      "Note: you may need to restart the kernel to use updated packages.\n"
     ]
    }
   ],
   "source": [
    "pip install kanren"
   ]
  },
  {
   "cell_type": "markdown",
   "metadata": {},
   "source": [
    "## 2. Ask Kanren\n",
    "\n",
    "Kanren enables the expression of relations and the search for values which satisfy them. The following code is the *Hello world!* of logic programming."
   ]
  },
  {
   "cell_type": "code",
   "execution_count": 4,
   "metadata": {},
   "outputs": [
    {
     "name": "stdout",
     "output_type": "stream",
     "text": [
      "(5,)\n"
     ]
    }
   ],
   "source": [
    "from kanren import run, eq, membero, var, conde # some of these imports will be used later\n",
    "\n",
    "x = var() # declare a variable x\n",
    "result = run(1, x, eq(x, 5)) # ask kanren 1 value x, such that x equals 5\n",
    "\n",
    "print(result)"
   ]
  },
  {
   "cell_type": "markdown",
   "metadata": {},
   "source": [
    "Multiple variables and multiple goals can be used simultaneously. The\n",
    "following code asks for a number x such that `x == z` and `z == 3`"
   ]
  },
  {
   "cell_type": "code",
   "execution_count": 5,
   "metadata": {},
   "outputs": [
    {
     "name": "stdout",
     "output_type": "stream",
     "text": [
      "~z\n"
     ]
    },
    {
     "data": {
      "text/plain": [
       "(3,)"
      ]
     },
     "execution_count": 5,
     "metadata": {},
     "output_type": "execute_result"
    }
   ],
   "source": [
    "z = var('z') # you may also, optionally, pass a token name for a variable...\n",
    "print(z)     # and print it\n",
    "\n",
    "run(0, x, eq(x, z), eq(z, 3)) # ask kanren for all values (just say 0), immediately print the result, you may omit the print statement"
   ]
  },
  {
   "cell_type": "markdown",
   "metadata": {},
   "source": [
    "The following code asks for a number, x, such that `(1, 2) == (1, x)` holds. The variable x was already declared above."
   ]
  },
  {
   "cell_type": "code",
   "execution_count": 6,
   "metadata": {},
   "outputs": [
    {
     "data": {
      "text/plain": [
       "(2,)"
      ]
     },
     "execution_count": 6,
     "metadata": {},
     "output_type": "execute_result"
    }
   ],
   "source": [
    "run(0, x, eq((1, 2), (1, x)))"
   ]
  },
  {
   "cell_type": "markdown",
   "metadata": {},
   "source": [
    "The above examples use `eq`, a *goal constructor* to state that two expressions\n",
    "are equal. Other goal constructors exist such as `membero(item, coll)` which\n",
    "states that `item` is a member of `coll`, a collection.\n",
    "\n",
    "The following example uses `membero` twice to ask for the values of x,\n",
    "such that x is a member of `(1, 2, 3)` and that x is a member of `(2, 3, 4)`."
   ]
  },
  {
   "cell_type": "code",
   "execution_count": 7,
   "metadata": {},
   "outputs": [
    {
     "data": {
      "text/plain": [
       "(2, 3)"
      ]
     },
     "execution_count": 7,
     "metadata": {},
     "output_type": "execute_result"
    }
   ],
   "source": [
    "run(0, x, membero(x, (1, 2, 3)),  # x is a member of (1, 2, 3)\n",
    "          membero(x, (2, 3, 4)))  # x is a member of (2, 3, 4)"
   ]
  },
  {
   "cell_type": "markdown",
   "metadata": {},
   "source": [
    "## 3. Facts\n",
    "\n",
    "Kanren stores data as facts. Facts are relationships (between terms). In the next example *state* and *border* are two relations."
   ]
  },
  {
   "cell_type": "code",
   "execution_count": 8,
   "metadata": {},
   "outputs": [
    {
     "data": {
      "text/plain": [
       "('washington',)"
      ]
     },
     "execution_count": 8,
     "metadata": {},
     "output_type": "execute_result"
    }
   ],
   "source": [
    "from kanren import fact, facts, Relation\n",
    "\n",
    "state = Relation()\n",
    "border = Relation()\n",
    "\n",
    "fact(state, \"washington\")   # declare one fact\n",
    "fact(state, \"oregon\")\n",
    "facts(state, \"idaho\",       # use facts to declare more facts in one statement\n",
    "             \"california\")\n",
    "\n",
    "fact(border, \"washington\", \"oregon\") # one fact\n",
    "facts(border, (\"washington\", \"idaho\"), # facts to declare multiple facts\n",
    "              (\"oregon\", \"california\"))\n",
    "\n",
    "run(0, x, border(x, \"oregon\")) # ask Kanren which state borders oregon, note that it outputs only washington"
   ]
  },
  {
   "cell_type": "markdown",
   "metadata": {},
   "source": [
    "## 4. Rules\n",
    "\n",
    "Use the Python `def` statement to declare a rule. x and y are adjacent if x borders y."
   ]
  },
  {
   "cell_type": "code",
   "execution_count": 9,
   "metadata": {},
   "outputs": [
    {
     "name": "stdout",
     "output_type": "stream",
     "text": [
      "yes\n",
      "no\n"
     ]
    }
   ],
   "source": [
    "def adjacent(x, y):\n",
    "    return border(x, y)\n",
    "\n",
    "result = run(0, x, adjacent(\"washington\", \"oregon\"))\n",
    "print('yes' if len(result) else 'no') # print yes if the length of the result is > 0, no otherwise\n",
    "\n",
    "result = run(0, x, adjacent(\"oregon\", \"washington\"))\n",
    "print('yes' if len(result) else 'no')"
   ]
  },
  {
   "cell_type": "markdown",
   "metadata": {},
   "source": [
    "Use `conde`, a goal constructor for logical *and* and *or*.  __Use brackets for *and*, square brackets for *or*. Please note the position of the brackets! They are different for the normal and square brackets!__\n",
    "\n",
    "```python\n",
    "def adjacent(x, y):\n",
    "    return conde([border(x, y)], [border(y, x)]) # x is adjacent to y if x borders y OR y borders x\n",
    "\n",
    "def grandparent(x, y):\n",
    "    z = var()\n",
    "    return conde((parent(x, z), parent(z, y)))   # x is the grandparent of y if x is the parent of z AND z is the parent of y\n",
    "\n",
    "```    "
   ]
  },
  {
   "cell_type": "code",
   "execution_count": 10,
   "metadata": {},
   "outputs": [
    {
     "name": "stdout",
     "output_type": "stream",
     "text": [
      "yes\n",
      "yes\n"
     ]
    }
   ],
   "source": [
    "def adjacent(x, y):\n",
    "    return conde([border(x, y)], [border(y, x)])\n",
    "\n",
    "result = run(0, x, adjacent(\"washington\", \"oregon\"))\n",
    "print('yes' if len(result) else 'no')\n",
    "\n",
    "result = run(0, x, adjacent(\"oregon\", \"washington\"))\n",
    "print('yes' if len(result) else 'no')"
   ]
  },
  {
   "cell_type": "code",
   "execution_count": 11,
   "metadata": {},
   "outputs": [
    {
     "name": "stdout",
     "output_type": "stream",
     "text": [
      "('washington', 'california')\n",
      "('idaho', 'oregon')\n"
     ]
    }
   ],
   "source": [
    "print(run(0, x, adjacent(x, \"oregon\"))) # both states are found now!\n",
    "print(run(0, x, adjacent(x, \"washington\"))) # both states are found now!"
   ]
  },
  {
   "cell_type": "code",
   "execution_count": null,
   "metadata": {},
   "outputs": [],
   "source": []
  }
 ],
 "metadata": {
  "kernelspec": {
   "display_name": "Python 3",
   "language": "python",
   "name": "python3"
  },
  "language_info": {
   "codemirror_mode": {
    "name": "ipython",
    "version": 3
   },
   "file_extension": ".py",
   "mimetype": "text/x-python",
   "name": "python",
   "nbconvert_exporter": "python",
   "pygments_lexer": "ipython3",
   "version": "3.8.5"
  }
 },
 "nbformat": 4,
 "nbformat_minor": 2
}
