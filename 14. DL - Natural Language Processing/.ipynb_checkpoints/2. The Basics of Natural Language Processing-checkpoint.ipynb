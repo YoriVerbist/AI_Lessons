{
 "cells": [
  {
   "cell_type": "markdown",
   "metadata": {},
   "source": [
    "# The Basics of Natural Language Processing\n",
    "\n",
    "Not sure what Natural Language Processing is and how it applies to you? The video below (from 0:00 till 3:57) will discuss the basics of Natural Language Processing so you can better understand what it is, how it works, and how it's being used in the real world today."
   ]
  },
  {
   "cell_type": "code",
   "execution_count": 1,
   "metadata": {},
   "outputs": [
    {
     "data": {
      "text/html": [
       "<iframe width=\"560\" height=\"315\" src=\"https://www.youtube.com/embed/d4gGtcobq8M?end=237\" frameborder=\"0\" allow=\"accelerometer; autoplay; encrypted-media; gyroscope; picture-in-picture\" allowfullscreen></iframe>\n"
      ],
      "text/plain": [
       "<IPython.core.display.HTML object>"
      ]
     },
     "metadata": {},
     "output_type": "display_data"
    }
   ],
   "source": [
    "%%HTML\n",
    "<iframe width=\"560\" height=\"315\" src=\"https://www.youtube.com/embed/d4gGtcobq8M?end=237\" frameborder=\"0\" allow=\"accelerometer; autoplay; encrypted-media; gyroscope; picture-in-picture\" allowfullscreen></iframe>"
   ]
  },
  {
   "cell_type": "markdown",
   "metadata": {},
   "source": [
    "## 1. Questions\n",
    "\n",
    "a) What is the percentage of data that is in a structured format today?<br/>\n",
    "b) What are these words called: a, the, is, are ?<br />\n",
    "c) Name three examples of unstructured data that can be used as a source of information using NLP."
   ]
  },
  {
   "cell_type": "code",
   "execution_count": null,
   "metadata": {},
   "outputs": [],
   "source": [
    "# answers\n",
    "# a) \n",
    "# b) \n",
    "# c) "
   ]
  },
  {
   "cell_type": "markdown",
   "metadata": {},
   "source": [
    "After this introduction, let's dive a little bit deeper. In the following video (from 0:10 till 7:49), you will learn about the various applications of NLP in the industry. Also the different steps in the NLP process will be discussed. Since this lesson is all about Natural Language Processing the video will be in a funny Indian-English accent."
   ]
  },
  {
   "cell_type": "code",
   "execution_count": 2,
   "metadata": {},
   "outputs": [
    {
     "data": {
      "text/html": [
       "<iframe width=\"560\" height=\"315\" src=\"https://www.youtube.com/embed/5ctbvkAMQO4?start=10&end=469\" frameborder=\"0\" allow=\"accelerometer; autoplay; encrypted-media; gyroscope; picture-in-picture\" allowfullscreen></iframe>\n"
      ],
      "text/plain": [
       "<IPython.core.display.HTML object>"
      ]
     },
     "metadata": {},
     "output_type": "display_data"
    }
   ],
   "source": [
    "%%HTML\n",
    "<iframe width=\"560\" height=\"315\" src=\"https://www.youtube.com/embed/5ctbvkAMQO4?start=10&end=469\" frameborder=\"0\" allow=\"accelerometer; autoplay; encrypted-media; gyroscope; picture-in-picture\" allowfullscreen></iframe>"
   ]
  },
  {
   "cell_type": "markdown",
   "metadata": {},
   "source": [
    "## 2. Questions\n",
    "\n",
    "a) Name five applications of NLP.<br />\n",
    "b) What are the two components of NLP?<br />\n",
    "c) Explain the following steps in the NLP process or give an example: Tokenization, Stemming, Lemmatization, POS tags, Named Entity Recognition, Chunking."
   ]
  },
  {
   "cell_type": "code",
   "execution_count": null,
   "metadata": {},
   "outputs": [],
   "source": [
    "# answers\n",
    "# a) \n",
    "# b) \n",
    "# c) \n",
    "# tokenization: \n",
    "# stemming: \n",
    "# lemmatization: \n",
    "# POS tags: \n",
    "# Named Entity Recognition: \n",
    "# Chunking: "
   ]
  }
 ],
 "metadata": {
  "kernelspec": {
   "display_name": "Python 3",
   "language": "python",
   "name": "python3"
  },
  "language_info": {
   "codemirror_mode": {
    "name": "ipython",
    "version": 3
   },
   "file_extension": ".py",
   "mimetype": "text/x-python",
   "name": "python",
   "nbconvert_exporter": "python",
   "pygments_lexer": "ipython3",
   "version": "3.7.3"
  }
 },
 "nbformat": 4,
 "nbformat_minor": 2
}
