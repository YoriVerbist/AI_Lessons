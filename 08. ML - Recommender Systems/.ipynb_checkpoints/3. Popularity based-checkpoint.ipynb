{
 "cells": [
  {
   "cell_type": "markdown",
   "metadata": {},
   "source": [
    "# Popularity based recommendation engine\n",
    "\n",
    "Simple recommenders are basic systems that recommend the top items based on a certain metric or score. The basic idea behind this system is that movies that are more popular will have a higher probability of being liked by the average audience.\n",
    "\n",
    "In this lesson, we will build a simplified clone of IMDb Top 250 Movies using metadata collected from IMDb."
   ]
  },
  {
   "cell_type": "markdown",
   "metadata": {},
   "source": [
    "## 1. Import libraries and read the data\n",
    "\n",
    "To begin, we import the pandas library and read the IMDb-data:"
   ]
  },
  {
   "cell_type": "code",
   "execution_count": null,
   "metadata": {},
   "outputs": [],
   "source": [
    "# import Pandas\n",
    "import pandas as pd\n",
    "\n",
    "# load Movies Metadata\n",
    "movies_df = pd.read_csv('resources/movies_metadata.csv')"
   ]
  },
  {
   "cell_type": "markdown",
   "metadata": {},
   "source": [
    "## 2. Explore the data\n",
    "\n",
    "It's a good idea to always explore your data a bit, so you know what you're working with. Let's print the first three rows and have a look at the data."
   ]
  },
  {
   "cell_type": "code",
   "execution_count": null,
   "metadata": {},
   "outputs": [],
   "source": [
    "# print the first three rows\n",
    "movies_df.head(3)"
   ]
  },
  {
   "cell_type": "markdown",
   "metadata": {},
   "source": [
    "Now print the vote_average and vote_count of the first 10 rows."
   ]
  },
  {
   "cell_type": "code",
   "execution_count": null,
   "metadata": {},
   "outputs": [],
   "source": [
    "# print the vote_average and vote_count of the first 10 rows\n",
    "movies_df[['vote_average', 'vote_count']].head(10)"
   ]
  },
  {
   "cell_type": "markdown",
   "metadata": {},
   "source": [
    "One of the most basic metrics to build our *Top 250* is the rating (vote_average from above). However, using this metric has a few caveats. For example, it does not take into consideration the popularity of a movie. Therefore, a movie with a rating of 9 from 10 voters will be considered 'better' than a movie with a rating of 8.9 from 10,000 voters.\n",
    "\n",
    "So it is necessary to come up with a weighted rating that takes into account __the average rating and the number of votes__ it has garnered. We will use the IMDb's weighted rating formula (since we are trying to build a clone of IMDb's Top 250):\n",
    "\n",
    "$$\\textrm{Weighted Rating (WR)} = (\\frac{v}{v + m} . R) + (\\frac{m}{v + m} . C)$$\n",
    "\n",
    "where,\n",
    "\n",
    "- v is the number of votes for the movie (`vote_count`)\n",
    "- m is the minimum number of votes required to be listed in the chart (to be computed)\n",
    "- R is the average rating of the movie (`vote_average`)\n",
    "- C is the mean vote across the whole report (to be computed)\n",
    "\n",
    "As a first step, let's calculate the value of C, the mean rating across all movies:"
   ]
  },
  {
   "cell_type": "code",
   "execution_count": null,
   "metadata": {},
   "outputs": [],
   "source": [
    "# calculate C\n",
    "C = movies_df['vote_average'].mean()\n",
    "print(C)"
   ]
  },
  {
   "cell_type": "markdown",
   "metadata": {},
   "source": [
    "Now we need to determine an appropriate value for m, the minimum number of votes required to be listed in the chart. There is no right value for m, therefore we will use the 90th percentile as cutoff. In other words, for a movie to feature in the charts, it must be in the 10% top most votes list (since we are cutting off 90% of the movies based on `vote_count`).\n",
    "\n",
    "Let's calculate the number of votes, m, received by the movie in the 90th percentile. The Pandas library makes this task extremely trivial using the .quantile() method:"
   ]
  },
  {
   "cell_type": "code",
   "execution_count": null,
   "metadata": {},
   "outputs": [],
   "source": [
    "# calculate the minimum number of votes required to be in the chart, m\n",
    "m = movies_df['vote_count'].quantile(0.90)\n",
    "print(m)"
   ]
  },
  {
   "cell_type": "markdown",
   "metadata": {},
   "source": [
    "If we had chosen the 75th percentile, we would have considered the top 25% of the movies in terms of the number of votes garnered. As the percentile decreases, the number of movies considered increases. You can check the number of votes for the 75th percentile yourself."
   ]
  },
  {
   "cell_type": "markdown",
   "metadata": {},
   "source": [
    "## 3. Filter the data\n",
    "\n",
    "Next, we can filter the movies that qualify for the chart, based on their vote counts. We use the .copy() method to ensure that the new q_movies_df DataFrame created is independent of your original movies_df DataFrame. In other words, any changes made to the q_movies_df DataFrame does not affect movies_df.\n",
    "\n",
    "You see that there are 4555 movies which qualify to be in this list."
   ]
  },
  {
   "cell_type": "code",
   "execution_count": null,
   "metadata": {},
   "outputs": [],
   "source": [
    "# filter out all qualified movies into a new DataFrame\n",
    "q_movies_df = movies_df.copy().loc[movies_df['vote_count'] >= m]\n",
    "q_movies_df.shape"
   ]
  },
  {
   "cell_type": "markdown",
   "metadata": {},
   "source": [
    "Now, we need to calculate the *Weighted Rating* for each qualified movie. To do this, we will define a function, weighted_rating() and define a new feature score, of which we'll calculate the value by applying this function to the DataFrame of qualified movies:"
   ]
  },
  {
   "cell_type": "code",
   "execution_count": null,
   "metadata": {},
   "outputs": [],
   "source": [
    "# function that computes the weighted rating of each movie\n",
    "def weighted_rating(x, m=m, C=C):\n",
    "    v = x['vote_count']\n",
    "    R = x['vote_average']\n",
    "    # calculation based on the IMDb formula\n",
    "    return (v/(v+m) * R) + (m/(m+v) * C)\n",
    "\n",
    "# define a new feature 'score' and calculate its value with `weighted_rating()`\n",
    "q_movies_df['score'] = q_movies_df.apply(weighted_rating, axis=1)"
   ]
  },
  {
   "cell_type": "markdown",
   "metadata": {},
   "source": [
    "Let's have a look at the new created column."
   ]
  },
  {
   "cell_type": "code",
   "execution_count": null,
   "metadata": {},
   "outputs": [],
   "source": [
    "q_movies_df.head(5)"
   ]
  },
  {
   "cell_type": "markdown",
   "metadata": {},
   "source": [
    "## 4. Top 15\n",
    "\n",
    "Finally, let's sort the DataFrame based on the score feature and output the title, vote count, vote average and score (= weighted rating) of the top 15 movies."
   ]
  },
  {
   "cell_type": "code",
   "execution_count": null,
   "metadata": {},
   "outputs": [],
   "source": [
    "# sort movies based on score calculated above\n",
    "q_movies_df = q_movies_df.sort_values('score', ascending=False)\n",
    "\n",
    "# print the top 15 movies\n",
    "q_movies_df[['title', 'vote_count', 'vote_average', 'score']].head(15)"
   ]
  },
  {
   "cell_type": "markdown",
   "metadata": {},
   "source": [
    "You see that the chart has a lot of movies in common with the IMDB Top 250 chart: for example, your top two movies, \"Shawshank Redemption\" and \"The Godfather\", are the same as IMDb. Check the other movies yourself. Pretty impressive! No?\n",
    "\n",
    "<img src=\"./resources/imdb.png\" style=\"height: 500px\"/>"
   ]
  }
 ],
 "metadata": {
  "kernelspec": {
   "display_name": "Python 3",
   "language": "python",
   "name": "python3"
  },
  "language_info": {
   "codemirror_mode": {
    "name": "ipython",
    "version": 3
   },
   "file_extension": ".py",
   "mimetype": "text/x-python",
   "name": "python",
   "nbconvert_exporter": "python",
   "pygments_lexer": "ipython3",
   "version": "3.7.3"
  }
 },
 "nbformat": 4,
 "nbformat_minor": 2
}
