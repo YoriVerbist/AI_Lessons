{
 "cells": [
  {
   "cell_type": "markdown",
   "metadata": {},
   "source": [
    "# Collaborative filtering\n",
    "\n",
    "Our last recommendation engine will be collaborative filtering based. The assumption here is that if two people have similar ratings for a particular set of movies, then their choices in a set of new unknown movies would be similar too. We will first try to find similar users, based on  ratings on previous movies. In a second step we will recommend the films of similar users.\n",
    "\n",
    "In a previous notebook we already explained an algorithm that can be used for this type of recommendation engine. In this notebook we will use a comparable algorithm. You don't have to know the implementation of the algorithm, but if you are interested, you can of course take a look at the code in the Python file."
   ]
  },
  {
   "cell_type": "markdown",
   "metadata": {},
   "source": [
    "## 1. Import the code library\n",
    "\n",
    "Let us first import the code libraray with the functions who implement our collaborative filtering algorithms. The first two functions will be used to calculate the similarity score between two users (based on their reviews of previous seen movies). The similarity score gives us an idea of how similar two users are. The last two functions will finally implement our recommendation engine.\n",
    "\n",
    "- `euclidean_score` uses the Euclidean distance between two data points to compute the score. The score ranges from 0 to 1. A low score indicates that the users are not similar.\n",
    "- `pearson_score` uses the Pearson score, a measure of correlation between two objects. The score can range from -1 to +1. A score of +1 indicates that the objects are very similar where a score of -1 would indicate that the objects are very dissimilar.\n",
    "\n",
    "\n",
    "- `find_similar_users` will - for a given user - find similar users (based on the pearson_score)\n",
    "- `get_recommendations` will - for a given user - come up with recommendations (based on movies seen by similar users)"
   ]
  },
  {
   "cell_type": "code",
   "execution_count": 1,
   "metadata": {},
   "outputs": [],
   "source": [
    "import sys\n",
    "sys.path.append('resources/collaborative_filtering.py')\n",
    "\n",
    "from resources.collaborative_filtering import euclidean_score, pearson_score, find_similar_users, get_recommendations"
   ]
  },
  {
   "cell_type": "markdown",
   "metadata": {},
   "source": [
    "## 2. Computing similarity scores between users\n",
    "\n",
    "Our movie recommendation system will be based on the data provided in the file *resources/ratings.json*. This file contains a set of people and their ratings for various movies.\n",
    "\n",
    "```json\n",
    "{ \n",
    "    \"David Smith\": \n",
    "    {\n",
    "        \"Vertigo\": 4,\n",
    "        \"Scarface\": 4.5,\n",
    "        \"Raging Bull\": 3.0,\n",
    "        \"Goodfellas\": 4.5,\n",
    "        \"The Apartment\": 1.0\n",
    "    },\n",
    "    \"Brenda Peterson\": \n",
    "    {\n",
    "        \"Vertigo\": 3.0,\n",
    "        \"Scarface\": 1.5,\n",
    "        \"Raging Bull\": 1.0,\n",
    "        \"Goodfellas\": 2.0,\n",
    "        \"The Apartment\": 5.0,\n",
    "        \"Roman Holiday\": 4.5 \n",
    "    },\n",
    "    ...    \n",
    "}\n",
    "```\n",
    "\n",
    "We will read the json file and calculate the similarity score between two users using the two different methods. Compare David Smith with Julie Hammel and see what happens. Maybe you can check in the file if the results make sence?"
   ]
  },
  {
   "cell_type": "code",
   "execution_count": 2,
   "metadata": {},
   "outputs": [
    {
     "name": "stdout",
     "output_type": "stream",
     "text": [
      "{'David Smith': {'Vertigo': 4, 'Scarface': 4.5, 'Raging Bull': 3.0, 'Goodfellas': 4.5, 'The Apartment': 1.0}, 'Brenda Peterson': {'Vertigo': 3.0, 'Scarface': 1.5, 'Raging Bull': 1.0, 'Goodfellas': 2.0, 'The Apartment': 5.0, 'Roman Holiday': 4.5}, 'Bill Duffy': {'Vertigo': 4.5, 'Scarface': 5.0, 'Goodfellas': 4.5, 'The Apartment': 1.0}, 'Samuel Miller': {'Scarface': 3.5, 'Raging Bull': 5.0, 'The Apartment': 1.0, 'Goodfellas': 5.0, 'Roman Holiday': 1.0}, 'Julie Hammel': {'Scarface': 2.5, 'Roman Holiday': 4.5, 'Goodfellas': 3.0}, 'Clarissa Jackson': {'Vertigo': 5.0, 'Scarface': 4.5, 'Raging Bull': 4.0, 'Goodfellas': 2.5, 'The Apartment': 1.0, 'Roman Holiday': 1.5}, 'Adam Cohen': {'Vertigo': 3.5, 'Scarface': 3.0, 'The Apartment': 1.0, 'Goodfellas': 4.5, 'Roman Holiday': 3.0}, 'Chris Duncan': {'The Apartment': 1.5, 'Raging Bull': 4.5}, 'Bill Gates': {'Vertigo': 1.5, 'Scarface': 1.0, 'Goodfellas': 4.5, 'The Apartment': 5.0}}\n",
      "\n",
      "Euclidean score:\n",
      "0.585786437626905\n",
      "\n",
      "Pearson score:\n",
      "0.9909924304103233\n"
     ]
    }
   ],
   "source": [
    "ratings_file = 'resources/ratings.json'\n",
    "\n",
    "import json\n",
    "\n",
    "with open(ratings_file) as json_file:\n",
    "    data = json.load(json_file)\n",
    "print(data)\n",
    "    \n",
    "user1 = \"David Smith\"\n",
    "user2 = \"Bill Duffy\"\n",
    "\n",
    "print(\"\\nEuclidean score:\")\n",
    "print(euclidean_score(data, user1, user2))\n",
    "    \n",
    "print(\"\\nPearson score:\")\n",
    "print(pearson_score(data, user1, user2))"
   ]
  },
  {
   "cell_type": "markdown",
   "metadata": {},
   "source": [
    "## 3. Finding similar users\n",
    "\n",
    "Apparently the *Pearson score* gives the best result, so we will use this score to find similar users - given a certain user."
   ]
  },
  {
   "cell_type": "code",
   "execution_count": 3,
   "metadata": {},
   "outputs": [
    {
     "name": "stdout",
     "output_type": "stream",
     "text": [
      "\n",
      "Users similar to Adam Cohen:\n",
      "\n",
      "User\t\t\tPearson similarity score\n",
      "------------------------------------------------\n",
      "David Smith \t\t\t 0.91\n",
      "Bill Duffy \t\t\t 0.86\n",
      "Samuel Miller \t\t\t 0.8\n"
     ]
    }
   ],
   "source": [
    "ratings_file = 'resources/ratings.json'\n",
    "\n",
    "import json\n",
    "\n",
    "with open(ratings_file) as json_file:\n",
    "    data = json.load(json_file)\n",
    "\n",
    "user = \"Adam Cohen\"\n",
    "\n",
    "print('\\nUsers similar to ' + user + ':\\n')\n",
    "similar_users = find_similar_users(data, user, 3) \n",
    "print('User\\t\\t\\tPearson similarity score')\n",
    "print('-'*48)\n",
    "for item in similar_users:\n",
    "    print(item[0], '\\t\\t\\t', round(float(item[1]), 2))"
   ]
  },
  {
   "cell_type": "markdown",
   "metadata": {},
   "source": [
    "## 4. Building a movie recommendation system\n",
    "\n",
    "Now that we have all the building blocks in place, it's time to build our movie recommendation system. When we want to find movie recommendations for a given user, we will need to find similar users in the dataset and then come up with\n",
    "recommendations for this person."
   ]
  },
  {
   "cell_type": "code",
   "execution_count": 4,
   "metadata": {},
   "outputs": [
    {
     "name": "stdout",
     "output_type": "stream",
     "text": [
      "\n",
      "Movie recommendations for Chris Duncan:\n",
      "1. Vertigo\n",
      "2. Scarface\n",
      "3. Goodfellas\n",
      "4. Roman Holiday\n"
     ]
    }
   ],
   "source": [
    "ratings_file = 'resources/ratings.json'\n",
    "\n",
    "import json\n",
    "\n",
    "with open(ratings_file) as json_file:\n",
    "    data = json.load(json_file)\n",
    "\n",
    "user = \"Chris Duncan\"\n",
    "\n",
    "print(\"\\nMovie recommendations for \" + user + \":\")\n",
    "movies = get_recommendations(data, user) \n",
    "for i, movie in enumerate(movies):\n",
    "    print(str(i+1) + '. ' + movie)"
   ]
  },
  {
   "cell_type": "markdown",
   "metadata": {},
   "source": [
    "Now it's time to build you own recommendation system. Have a look at the task of module 2."
   ]
  },
  {
   "cell_type": "code",
   "execution_count": null,
   "metadata": {},
   "outputs": [],
   "source": []
  }
 ],
 "metadata": {
  "kernelspec": {
   "display_name": "Python 3",
   "language": "python",
   "name": "python3"
  },
  "language_info": {
   "codemirror_mode": {
    "name": "ipython",
    "version": 3
   },
   "file_extension": ".py",
   "mimetype": "text/x-python",
   "name": "python",
   "nbconvert_exporter": "python",
   "pygments_lexer": "ipython3",
   "version": "3.8.5"
  }
 },
 "nbformat": 4,
 "nbformat_minor": 2
}
