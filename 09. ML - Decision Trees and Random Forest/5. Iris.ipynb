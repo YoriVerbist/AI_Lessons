{
 "cells": [
  {
   "cell_type": "markdown",
   "metadata": {},
   "source": [
    "# Iris"
   ]
  },
  {
   "cell_type": "markdown",
   "metadata": {},
   "source": [
    "As promised we will use the famous iris dataset to predict if an iris is an iris setosa, iris versicolor or iris virginica (depending on the features petal length, petal width, sepal length and sepal width): \n",
    "\n",
    "<img src=\"./resources/irisfeature.png\"  style=\"height: 250px\"/>"
   ]
  },
  {
   "cell_type": "markdown",
   "metadata": {},
   "source": [
    "## 1. Import libraries and read the data\n",
    "\n",
    "To begin, we import the following libraries."
   ]
  },
  {
   "cell_type": "code",
   "execution_count": null,
   "metadata": {},
   "outputs": [],
   "source": [
    "import pandas as pd\n",
    "import numpy as np\n",
    "\n",
    "from sklearn.datasets import load_iris\n",
    "from sklearn.tree import DecisionTreeClassifier\n",
    "from sklearn.model_selection import train_test_split\n",
    "from sklearn.metrics import confusion_matrix\n",
    "from sklearn import metrics\n",
    "\n",
    "from io import StringIO\n",
    "from IPython.display import Image  \n",
    "from sklearn.tree import export_graphviz\n",
    "import pydotplus"
   ]
  },
  {
   "cell_type": "markdown",
   "metadata": {},
   "source": [
    "Start by importing the datasets library from scikit-learn, and load the iris dataset with load_iris()."
   ]
  },
  {
   "cell_type": "code",
   "execution_count": null,
   "metadata": {},
   "outputs": [],
   "source": [
    "# load dataset\n",
    "iris = load_iris()"
   ]
  },
  {
   "cell_type": "markdown",
   "metadata": {},
   "source": [
    "## 2. Explore the data\n",
    "\n",
    "You can print the target and feature names, to make sure you have the right dataset."
   ]
  },
  {
   "cell_type": "code",
   "execution_count": null,
   "metadata": {},
   "outputs": [],
   "source": [
    "# print the label species(setosa, versicolor,virginica)\n",
    "print(iris.target_names)\n",
    "\n",
    "# print the names of the four features\n",
    "print(iris.feature_names)"
   ]
  },
  {
   "cell_type": "markdown",
   "metadata": {},
   "source": [
    "It's a good idea to always explore your data a bit, so you know what you're working with. Here you can see the first five rows of the dataset are printed, as well as the target variable for the whole dataset."
   ]
  },
  {
   "cell_type": "code",
   "execution_count": null,
   "metadata": {},
   "outputs": [],
   "source": [
    "# print the iris data (top 5 records)\n",
    "print(iris.data[0:5])\n",
    "\n",
    "# print the iris labels (0:setosa, 1:versicolor, 2:virginica)\n",
    "print(iris.target)"
   ]
  },
  {
   "cell_type": "markdown",
   "metadata": {},
   "source": [
    "We will create a DataFrame of the iris dataset in the following way:"
   ]
  },
  {
   "cell_type": "code",
   "execution_count": null,
   "metadata": {},
   "outputs": [],
   "source": [
    "# we will create a pandas DataFrame of given iris dataset\n",
    "\n",
    "iris_df = pd.DataFrame({\n",
    "    'sepal length':iris.data[:,0], # first column\n",
    "    'sepal width':iris.data[:,1], # second column\n",
    "    'petal length':iris.data[:,2],\n",
    "    'petal width':iris.data[:,3],\n",
    "    'species':iris.target\n",
    "})\n",
    "iris_df.head()"
   ]
  },
  {
   "cell_type": "markdown",
   "metadata": {},
   "source": [
    "## 3. Data splicing\n",
    "\n",
    "Our next step is to divide the data into independent variables (features) and dependent variables (labels), whose values are to be predicted. Next, we split 70% of the data to the training set and 30% of the data to the test set."
   ]
  },
  {
   "cell_type": "code",
   "execution_count": null,
   "metadata": {},
   "outputs": [],
   "source": [
    "feature_cols = ['sepal length', 'sepal width', 'petal length', 'petal width']\n",
    "\n",
    "X = iris_df[feature_cols]  # Features\n",
    "y = iris_df['species']  # Labels\n",
    "\n",
    "# Split dataset into training set and test set\n",
    "X_train, X_test, y_train, y_test = train_test_split(X, y, test_size=0.3) # 70% training and 30% test"
   ]
  },
  {
   "cell_type": "code",
   "execution_count": null,
   "metadata": {},
   "outputs": [],
   "source": [
    "print(X)"
   ]
  },
  {
   "cell_type": "code",
   "execution_count": null,
   "metadata": {},
   "outputs": [],
   "source": [
    "print(y)"
   ]
  },
  {
   "cell_type": "markdown",
   "metadata": {},
   "source": [
    "## 4. Train our model\n",
    "\n",
    "After splitting, we will train the model on the training set and perform predictions on the test set."
   ]
  },
  {
   "cell_type": "code",
   "execution_count": null,
   "metadata": {},
   "outputs": [],
   "source": [
    "# create Decision Tree classifer object\n",
    "clf = DecisionTreeClassifier(criterion = \"entropy\")\n",
    "\n",
    "# train Decision Tree Classifer\n",
    "clf = clf.fit(X_train, y_train)"
   ]
  },
  {
   "cell_type": "markdown",
   "metadata": {},
   "source": [
    "We can view the actual decision tree produced by our model by running the following block of code."
   ]
  },
  {
   "cell_type": "code",
   "execution_count": null,
   "metadata": {},
   "outputs": [],
   "source": [
    "dot_data = StringIO()\n",
    "export_graphviz(clf, out_file = dot_data, filled = True, rounded = True,\n",
    "                special_characters = True, feature_names = feature_cols, class_names=['setosa', 'versicolor', 'virginica'])\n",
    "graph = pydotplus.graph_from_dot_data(dot_data.getvalue())  \n",
    "Image(graph.create_png(), width=550)"
   ]
  },
  {
   "cell_type": "markdown",
   "metadata": {},
   "source": [
    "Let’s see how our decision tree works when it's presented with test data."
   ]
  },
  {
   "cell_type": "markdown",
   "metadata": {},
   "source": [
    "## 5. Predictions\n",
    "\n",
    "Now that we have trained our model, it’s time to make some predictions. To do so, we will use our test data and see how accurately our algorithm predicts the iris species."
   ]
  },
  {
   "cell_type": "code",
   "execution_count": null,
   "metadata": {},
   "outputs": [],
   "source": [
    "y_pred = clf.predict(X_test)"
   ]
  },
  {
   "cell_type": "markdown",
   "metadata": {},
   "source": [
    "After training, check the accuracy using actual and predicted values."
   ]
  },
  {
   "cell_type": "code",
   "execution_count": null,
   "metadata": {},
   "outputs": [],
   "source": [
    "print(\"Accuracy:\", metrics.accuracy_score(y_test, y_pred))"
   ]
  },
  {
   "cell_type": "markdown",
   "metadata": {},
   "source": [
    "Accuracy is the number of good predictions over the number of predictions. What is your accuracy percentage on the testing set? Compare this value with the result of your neighbour student."
   ]
  },
  {
   "cell_type": "code",
   "execution_count": null,
   "metadata": {},
   "outputs": [],
   "source": [
    "# accuracy: "
   ]
  },
  {
   "cell_type": "markdown",
   "metadata": {},
   "source": [
    "This metric is interesting but does not help us understand what the Decision Tree gets wrong. The confusion matrix can help us."
   ]
  },
  {
   "cell_type": "code",
   "execution_count": null,
   "metadata": {},
   "outputs": [],
   "source": [
    "true_values = [\"cat\", \"ant\", \"cat\", \"cat\", \"ant\", \"bird\"]\n",
    "predicted_values = [\"ant\", \"ant\", \"cat\", \"cat\", \"ant\", \"cat\"]\n",
    "confusion_matrix(true_values, predicted_values, labels = [\"ant\", \"bird\", \"cat\"])"
   ]
  },
  {
   "cell_type": "markdown",
   "metadata": {},
   "source": [
    "The confusion matrix above is made up of two axes, the y-axis (vertical) is the true values and the x-axis (horizontal) is the predicted values:\n",
    "\n",
    "<table>\n",
    "    <tr><th>ant</th><td>2</td><td>0</td><td>0</td><tr>\n",
    "    <tr><th>bird</th><td>0</td><td>0</td><td>1</td><tr>\n",
    "    <tr><th>cat</th><td>1</td><td>0</td><td>2</td><tr>    \n",
    "    <tr><td></td><th>ant</th><th>bird</th><th>cat</th><tr>\n",
    "</table>\n",
    "\n",
    "On the top-left square we can see that for the 2 ants, the prediction was right. The second line shows that one bird has been mistaken for a cat. Finally the bottom row shows that 2 cats have been classified as cat. One cat has been classified as an ant."
   ]
  },
  {
   "cell_type": "code",
   "execution_count": null,
   "metadata": {},
   "outputs": [],
   "source": [
    "species = np.array(y_test)\n",
    "predictions = np.array(y_pred)\n",
    "confusion_matrix(species, predictions)"
   ]
  },
  {
   "cell_type": "markdown",
   "metadata": {},
   "source": [
    "## 6. Exercise\n",
    "\n",
    "Suppose you get the following output (your output might be a little bit different):\n",
    "\n",
    "```\n",
    "array([[15,  0,  0],\n",
    "       [ 0, 12,  1],\n",
    "       [ 0,  1, 16]], dtype=int64)\n",
    "\n",
    "```\n",
    "\n",
    "The confusion matrix above is made up of two axes, the y-axis (vertical) is the true value for the species of the iris and the x-axis (horizontal) is the species the Decision Tree has predicted for this iris. On the top-left square we can see that for the 15 setosa irises, the Decision Tree has predicted setosa for the species. The second line shows that out of 13 versicolor irises 12 have been classified as versicolor and 1 has been mistaken for virginica. This is the reason why we don’t have a 100% accuracy. Finally the bottom row shows that 16 virginica irises have been classified as virginica. One virginica has been classified as versicolor.\n",
    "\n",
    "Thanks to the confusion matrix we can retrieve the accuracy. First compute the number of good predictions (all the diagonal elements). Next compute the total number of predictions. Find the accuracy by dividing the number of good predictions by the total number. Do you get the same accuracy percentage as obtained by the classifier (see above)?"
   ]
  },
  {
   "cell_type": "code",
   "execution_count": null,
   "metadata": {},
   "outputs": [],
   "source": [
    "# answer?\n",
    "# Good predictions: \n",
    "# Total number:\n",
    "# Accuracy:\n",
    "# The same? "
   ]
  }
 ],
 "metadata": {
  "kernelspec": {
   "display_name": "Python 3",
   "language": "python",
   "name": "python3"
  },
  "language_info": {
   "codemirror_mode": {
    "name": "ipython",
    "version": 3
   },
   "file_extension": ".py",
   "mimetype": "text/x-python",
   "name": "python",
   "nbconvert_exporter": "python",
   "pygments_lexer": "ipython3",
   "version": "3.7.3"
  }
 },
 "nbformat": 4,
 "nbformat_minor": 2
}
