{
 "cells": [
  {
   "cell_type": "markdown",
   "metadata": {},
   "source": [
    "# Will John play tennis?\n",
    "\n",
    "In this first example we will use the example from the video and try to predict if John will play tennis on a particular day? We will use scikit-learn to build the decision tree. We will visualize the tree using Pydotplus and Graphviz. Graphviz is a tool for drawing graphics using dot files. Pydotplus is a module to Graphviz’s Dot language."
   ]
  },
  {
   "cell_type": "markdown",
   "metadata": {},
   "source": [
    "First install Graphviz and Pydotplus:\n",
    "\n",
    "1. Download Graphviz and Install https://graphviz.gitlab.io/_pages/Download/Download_windows.html\n",
    "\n",
    "\n",
    "2. !pip install graphviz<br>\n",
    "   !pip install pydotplus\n",
    "\n",
    "\n",
    "3. Add the graphviz installed path (C:...\\graphviz\\bin) to Control Panel > System and Security > System > Advanced System Settings > Environment Variables > Path > Edit > New\n",
    "\n",
    "\n",
    "4. Very Important: Restart your Jupyter Notebook/machine."
   ]
  },
  {
   "cell_type": "code",
   "execution_count": null,
   "metadata": {},
   "outputs": [],
   "source": [
    "!pip install graphviz\n",
    "!pip install pydotplus"
   ]
  },
  {
   "cell_type": "markdown",
   "metadata": {},
   "source": [
    "## 1. Import packages and classes\n",
    "\n",
    "The first step is to import the packages:"
   ]
  },
  {
   "cell_type": "code",
   "execution_count": null,
   "metadata": {},
   "outputs": [],
   "source": [
    "import numpy as np\n",
    "import pandas as pd\n",
    "from sklearn.tree import DecisionTreeClassifier\n",
    "from sklearn import tree"
   ]
  },
  {
   "cell_type": "markdown",
   "metadata": {},
   "source": [
    "## 2. Provide the data\n",
    "\n",
    "The second step is defining the data to work with. Below you will find the data from the example in Excel-format. We will load the data, build the tree and at the end, we will try to predict if John will play tennis on a rainy day with high humidity and weak wind.\n",
    "\n",
    "<img src=\"./resources/tennis.png\" style=\"height: 300px\"/>\n",
    "\n",
    "Let's import the data using pandas:"
   ]
  },
  {
   "cell_type": "code",
   "execution_count": null,
   "metadata": {},
   "outputs": [],
   "source": [
    "# load dataset\n",
    "tennis_df = pd.read_csv(\"resources/tennis1.csv\", sep=';')"
   ]
  },
  {
   "cell_type": "markdown",
   "metadata": {},
   "source": [
    "We can then print the imported values:"
   ]
  },
  {
   "cell_type": "code",
   "execution_count": null,
   "metadata": {},
   "outputs": [],
   "source": [
    "print(tennis_df)"
   ]
  },
  {
   "cell_type": "markdown",
   "metadata": {},
   "source": [
    "## 3. Split the data\n",
    "\n",
    "Given input features: *outlook, humidity and wind* we will predict if John will *play* or not. Let's split the features and the target variable:"
   ]
  },
  {
   "cell_type": "code",
   "execution_count": null,
   "metadata": {},
   "outputs": [],
   "source": [
    "# split dataset in features and target variable\n",
    "\n",
    "feature_cols = ['outlook', 'humidity', 'wind']\n",
    "\n",
    "X = tennis_df[feature_cols]\n",
    "y = tennis_df[['play']] # target variable"
   ]
  },
  {
   "cell_type": "code",
   "execution_count": null,
   "metadata": {},
   "outputs": [],
   "source": [
    "print(X)"
   ]
  },
  {
   "cell_type": "code",
   "execution_count": null,
   "metadata": {},
   "outputs": [],
   "source": [
    "print(y)"
   ]
  },
  {
   "cell_type": "markdown",
   "metadata": {},
   "source": [
    "## 4. Train the classifier\n",
    "\n",
    "The next step is to train the classifier (decision tree) with the data. As you know, training is always necessary for supervised learning algorithms."
   ]
  },
  {
   "cell_type": "code",
   "execution_count": null,
   "metadata": {},
   "outputs": [],
   "source": [
    "clf = DecisionTreeClassifier()\n",
    "clf = clf.fit(X, y)"
   ]
  },
  {
   "cell_type": "markdown",
   "metadata": {},
   "source": [
    "When you run the code above, you should get the following error:\n",
    "\n",
    "```\n",
    "ValueError: could not convert string to float: 'sunny'\n",
    "```\n",
    "\n",
    "The decision trees implemented in scikit-learn uses only numerical features and these features are interpreted always as continuous numeric variables. *sunny, overcast and rain* are categorical features and they are not supported in scikit-learn.\n",
    "\n",
    "The simpliest way to solve this, is to replace our categorical string values with numerical values. But, simply replacing the strings with numbers normally should be avoided. Because being considered as a continuous numerical feature, any coding you  use, will induce an order which simply does not exist in your data.\n",
    "\n",
    "For example coding ['sunny', 'overcast', 'rain'] with [1, 2, 3], would produce weird things like 'sunny' is lower than 'overcast', and if you average a 'sunny' and a 'rain' you will get a 'overcast'.\n",
    "\n",
    "But since it is the simpliest solution, we are going to do it anyway. You can always search the internet for better solutions.\n",
    "\n",
    "So let's install `category_encoders` to replace the categories with numeric values."
   ]
  },
  {
   "cell_type": "code",
   "execution_count": null,
   "metadata": {},
   "outputs": [],
   "source": [
    "pip install --upgrade category_encoders"
   ]
  },
  {
   "cell_type": "code",
   "execution_count": null,
   "metadata": {},
   "outputs": [],
   "source": [
    "print(X)"
   ]
  },
  {
   "cell_type": "code",
   "execution_count": null,
   "metadata": {},
   "outputs": [],
   "source": [
    "print(feature_cols)"
   ]
  },
  {
   "cell_type": "code",
   "execution_count": null,
   "metadata": {},
   "outputs": [],
   "source": [
    "import category_encoders as ce\n",
    "\n",
    "ce_ord = ce.OrdinalEncoder(cols = feature_cols)\n",
    "X_cat = ce_ord.fit_transform(X)"
   ]
  },
  {
   "cell_type": "code",
   "execution_count": null,
   "metadata": {},
   "outputs": [],
   "source": [
    "print(X_cat)"
   ]
  },
  {
   "cell_type": "markdown",
   "metadata": {},
   "source": [
    "Now we can try to train the classifier (decision tree) with the data."
   ]
  },
  {
   "cell_type": "code",
   "execution_count": null,
   "metadata": {},
   "outputs": [],
   "source": [
    "clf = DecisionTreeClassifier(criterion = \"entropy\")\n",
    "clf = clf.fit(X_cat, y)"
   ]
  },
  {
   "cell_type": "markdown",
   "metadata": {},
   "source": [
    "## 5. Visualize the decision tree\n",
    "\n",
    "Now we can use the packages from above (graphviz and pydotplus) to visualize our decision tree."
   ]
  },
  {
   "cell_type": "code",
   "execution_count": null,
   "metadata": {},
   "outputs": [],
   "source": [
    "from io import StringIO\n",
    "from IPython.display import Image  \n",
    "from sklearn.tree import export_graphviz\n",
    "import pydotplus\n",
    "\n",
    "dot_data = StringIO()\n",
    "export_graphviz(clf, out_file = dot_data, filled = True, rounded = True,\n",
    "                special_characters = True, feature_names = feature_cols, class_names=['no','yes'])\n",
    "graph = pydotplus.graph_from_dot_data(dot_data.getvalue())  \n",
    "Image(graph.create_png(), width = 550)"
   ]
  },
  {
   "cell_type": "markdown",
   "metadata": {},
   "source": [
    "Remarks:\n",
    "    \n",
    "- The algorithm keeps generating levels until the datasets are pure (entropy = 0).\n",
    "- Since scikit-learn works with continuous values, the conditions in the nodes are formulated as `feature <= some_other_value` with only two outcomes (true or false). In our example we had categorical values: *Outlook is sunny, overcast or rain*."
   ]
  },
  {
   "cell_type": "markdown",
   "metadata": {},
   "source": [
    "## 6. Make predictions - Exercise\n",
    "\n",
    "We wanted to predict if John would play tennis on a rainy day with high humidity and weak wind. Can you first convert the features in number values and use the tree above to determine if John will play tennis?"
   ]
  },
  {
   "cell_type": "code",
   "execution_count": null,
   "metadata": {},
   "outputs": [],
   "source": [
    "# answer?\n",
    "# [outlook, humidity, wind] = [ , , ]\n",
    "# Will John play tennis? YES / NO"
   ]
  },
  {
   "cell_type": "markdown",
   "metadata": {},
   "source": [
    "You can check yourself if your prediction was right."
   ]
  },
  {
   "cell_type": "code",
   "execution_count": null,
   "metadata": {},
   "outputs": [],
   "source": [
    "prediction = clf.predict([[3, 1, 1]])                                         \n",
    "print(prediction)  "
   ]
  },
  {
   "cell_type": "markdown",
   "metadata": {},
   "source": [
    "## 7. An extra feature temperature - Exercise\n",
    "\n",
    "In the resources you will find a file tennis2.csv with an extra feature. Can you use this file and predict if John will still  play tennis on a HOT rainy day with high humidity and weak wind?"
   ]
  },
  {
   "cell_type": "code",
   "execution_count": null,
   "metadata": {},
   "outputs": [],
   "source": [
    "# load dataset\n"
   ]
  },
  {
   "cell_type": "code",
   "execution_count": null,
   "metadata": {},
   "outputs": [],
   "source": [
    "# print dataset\n"
   ]
  },
  {
   "cell_type": "code",
   "execution_count": null,
   "metadata": {},
   "outputs": [],
   "source": [
    "# split dataset in features and target variable\n"
   ]
  },
  {
   "cell_type": "code",
   "execution_count": null,
   "metadata": {},
   "outputs": [],
   "source": [
    "# encode the categories\n"
   ]
  },
  {
   "cell_type": "code",
   "execution_count": null,
   "metadata": {},
   "outputs": [],
   "source": [
    "# print the encoded categories\n"
   ]
  },
  {
   "cell_type": "code",
   "execution_count": null,
   "metadata": {},
   "outputs": [],
   "source": [
    "# fit the classifier\n"
   ]
  },
  {
   "cell_type": "code",
   "execution_count": null,
   "metadata": {},
   "outputs": [],
   "source": [
    "# print the decision tree\n"
   ]
  },
  {
   "cell_type": "code",
   "execution_count": null,
   "metadata": {},
   "outputs": [],
   "source": [
    "# make prediction\n",
    " "
   ]
  },
  {
   "cell_type": "code",
   "execution_count": null,
   "metadata": {},
   "outputs": [],
   "source": [
    "# Will John still play tennis on a HOT rainy day with high humidity and weak wind?\n",
    "# answer"
   ]
  }
 ],
 "metadata": {
  "celltoolbar": "Raw Cell Format",
  "kernelspec": {
   "display_name": "Python 3",
   "language": "python",
   "name": "python3"
  },
  "language_info": {
   "codemirror_mode": {
    "name": "ipython",
    "version": 3
   },
   "file_extension": ".py",
   "mimetype": "text/x-python",
   "name": "python",
   "nbconvert_exporter": "python",
   "pygments_lexer": "ipython3",
   "version": "3.7.3"
  }
 },
 "nbformat": 4,
 "nbformat_minor": 2
}
