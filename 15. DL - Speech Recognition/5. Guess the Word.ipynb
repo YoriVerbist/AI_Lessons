{
 "cells": [
  {
   "cell_type": "markdown",
   "metadata": {},
   "source": [
    "# Guess the Word\n",
    "\n",
    "In the previous Notebook, we built and trained a Speech Recognition engine ourselves. Another possibility is to use one of the Speech Recognition services that are available for use online through an API. Many of these services offer Python SDKs, so Speech Recognition becomes really easy.\n",
    "\n",
    "Some important packages for the Speech Recognition are:\n",
    "\n",
    "- apiai\n",
    "- assemblyai\n",
    "- google-cloud-speech\n",
    "- pocketsphinx\n",
    "- SpeechRecognition\n",
    "- watson-developer-cloud\n",
    "- wit\n",
    "\n",
    "There is one package that stands out in terms of ease-of-use: *SpeechRecognition*. Instead of having to build scripts for accessing microphones and processing audio files from scratch, SpeechRecognition will have you up and running in just a few minutes.\n",
    "\n",
    "The SpeechRecognition library acts as a wrapper for several popular speech APIs and is thus extremely flexible. One of these —the Google Web Speech API — supports a default API key that is hard-coded into the SpeechRecognition library. That means you can get off your feet without having to sign up for a service."
   ]
  },
  {
   "cell_type": "markdown",
   "metadata": {},
   "source": [
    "## 1. Installing SpeechRecognition\n",
    "\n",
    "You can install SpeechRecognition with the following command:"
   ]
  },
  {
   "cell_type": "code",
   "execution_count": null,
   "metadata": {},
   "outputs": [],
   "source": [
    "pip install SpeechRecognition"
   ]
  },
  {
   "cell_type": "markdown",
   "metadata": {},
   "source": [
    "Once installed, you should verify the installation by typing:"
   ]
  },
  {
   "cell_type": "code",
   "execution_count": null,
   "metadata": {},
   "outputs": [],
   "source": [
    "import speech_recognition as sr\n",
    "sr.__version__"
   ]
  },
  {
   "cell_type": "markdown",
   "metadata": {},
   "source": [
    "## 2. The Recognizer Class\n",
    "\n",
    "All of the magic in SpeechRecognition happens with the *Recognizer class*.\n",
    "\n",
    "Once a Recognizer instance is created, you can use seven methods for recognizing speech from an audio source using various APIs. These are:\n",
    "\n",
    "- recognize_bing(): Microsoft Bing Speech\n",
    "- recognize_google(): Google Web Speech API\n",
    "- recognize_google_cloud(): Google Cloud Speech - requires installation of the google-cloud-speech package\n",
    "- recognize_houndify(): Houndify by SoundHound\n",
    "- recognize_ibm(): IBM Speech to Text\n",
    "- recognize_sphinx(): CMU Sphinx - requires installing PocketSphinx\n",
    "- recognize_wit(): Wit.ai\n",
    "\n",
    "Since SpeechRecognition ships with a default API key for the Google Web Speech API, you can get started with it right away. For this reason, we’ll use the Web Speech API in this Notebook. The other six APIs all require authentication with either an API key or a username/password combination. Remark: with the default Google Web Speech API key, you’ll be limited to only 50 requests per day, and there is no way to raise this quota. \n",
    "\n",
    "SpeechRecognition makes working with audio files easy thanks to its handy *AudioFile class*. This class can be initialized with the path to an audio file and provides methods for reading and working with the file’s contents. The *record()* method records the data from the entire file into an AudioData instance.\n",
    "\n",
    "So the complete code to read an audio file and recognize any speech in the audio, will be:"
   ]
  },
  {
   "cell_type": "code",
   "execution_count": null,
   "metadata": {},
   "outputs": [],
   "source": [
    "r = sr.Recognizer()\n",
    "\n",
    "harvard = sr.AudioFile('./audio_files/harvard.wav')\n",
    "with harvard as source:\n",
    "    audio = r.record(source)\n",
    "    \n",
    "r.recognize_google(audio)"
   ]
  },
  {
   "cell_type": "markdown",
   "metadata": {},
   "source": [
    "## Exercise\n",
    "\n",
    "- Open the file in the audio_files map and listen if the transcription is correct.\n",
    "- Download an audio file and try to recognize the speech."
   ]
  },
  {
   "cell_type": "markdown",
   "metadata": {},
   "source": [
    "## 3. Capturing segments with offset and duration\n",
    "\n",
    "If you only want to capture a portion of the speech in a file, the record() method accepts a duration keyword argument that stops the recording after a specified number of seconds. In addition to specifying a recording duration, the record() method can be given a specific starting point using the offset keyword argument. This value represents the number of seconds from the beginning of the file to ignore before starting to record."
   ]
  },
  {
   "cell_type": "code",
   "execution_count": null,
   "metadata": {},
   "outputs": [],
   "source": [
    "with harvard as source:\n",
    "    audio = r.record(source, duration=4)\n",
    "r.recognize_google(audio)"
   ]
  },
  {
   "cell_type": "code",
   "execution_count": null,
   "metadata": {},
   "outputs": [],
   "source": [
    "with harvard as source:\n",
    "    audio = r.record(source, offset=4.7, duration=2.8)\n",
    "\n",
    "r.recognize_google(audio)"
   ]
  },
  {
   "cell_type": "markdown",
   "metadata": {},
   "source": [
    "## 4. The effect of noise\n",
    "\n",
    "Noise is a fact of life. All audio recordings have some degree of noise in them, and un-handled noise can wreck the accuracy of speech recognition apps.\n",
    "\n",
    "Listen to `jackhammer.wav` in the audio_files map. A lot of noise, right? The correct transcription should be: \"the stale smell of old beer lingers\". Let's try to recognize it from the audio file."
   ]
  },
  {
   "cell_type": "code",
   "execution_count": null,
   "metadata": {},
   "outputs": [],
   "source": [
    "r = sr.Recognizer()\n",
    "\n",
    "jackhammer = sr.AudioFile('./audio_files/jackhammer.wav')\n",
    "with jackhammer as source:\n",
    "    audio = r.record(source)\n",
    "\n",
    "r.recognize_google(audio)"
   ]
  },
  {
   "cell_type": "markdown",
   "metadata": {},
   "source": [
    "You will probably get an error. Audio that cannot be matched to text by the API raises an UnknownValueError exception. You should always wrap calls to the API with try and except blocks to handle this exception."
   ]
  },
  {
   "cell_type": "code",
   "execution_count": null,
   "metadata": {},
   "outputs": [],
   "source": [
    "r = sr.Recognizer()\n",
    "\n",
    "jackhammer = sr.AudioFile('./audio_files/jackhammer.wav')\n",
    "with jackhammer as source:\n",
    "    audio = r.record(source)\n",
    "    \n",
    "try:\n",
    "    print(r.recognize_google(audio))\n",
    "except sr.RequestError:\n",
    "    print(\"API was unreachable or unresponsive\")\n",
    "except sr.UnknownValueError:\n",
    "    print(\"Unable to recognize speech\")"
   ]
  },
  {
   "cell_type": "markdown",
   "metadata": {},
   "source": [
    "We handled the exception, but we weren't able to transcribe the file. One thing we can try is using the `adjust_for_ambient_noise()` method of the Recognizer class."
   ]
  },
  {
   "cell_type": "code",
   "execution_count": null,
   "metadata": {},
   "outputs": [],
   "source": [
    "r = sr.Recognizer()\n",
    "\n",
    "jackhammer = sr.AudioFile('./audio_files/jackhammer.wav')\n",
    "with jackhammer as source:\n",
    "    r.adjust_for_ambient_noise(source)\n",
    "    audio = r.record(source)\n",
    "\n",
    "r.recognize_google(audio)"
   ]
  },
  {
   "cell_type": "markdown",
   "metadata": {},
   "source": [
    "Not exactly what we expected: \"the stale smell of old beer lingers\". But at least we've got some output. \n",
    "\n",
    "When working with noisy files, it can be helpful to see the actual API response. Most APIs return a JSON string containing many possible transcriptions. The `recognize_google()` method will always return the most likely transcription unless you force it to give you the full response.\n",
    "\n",
    "You can do this by setting the show_all keyword argument of the recognize_google() method to True."
   ]
  },
  {
   "cell_type": "code",
   "execution_count": null,
   "metadata": {},
   "outputs": [],
   "source": [
    "r.recognize_google(audio, show_all=True)"
   ]
  },
  {
   "cell_type": "markdown",
   "metadata": {},
   "source": [
    "## 5. Working with microphones\n",
    "\n",
    "To access your microphone with *SpeechRecognizer*, you’ll have to install the PyAudio package. This can be done as follows:"
   ]
  },
  {
   "cell_type": "code",
   "execution_count": null,
   "metadata": {},
   "outputs": [],
   "source": [
    "!pip install pipwin\n",
    "!pipwin install pyaudio"
   ]
  },
  {
   "cell_type": "markdown",
   "metadata": {},
   "source": [
    "You can get a list of microphone names by calling the `list_microphone_names()` static method of the Microphone class."
   ]
  },
  {
   "cell_type": "code",
   "execution_count": null,
   "metadata": {},
   "outputs": [],
   "source": [
    "sr.Microphone.list_microphone_names()"
   ]
  },
  {
   "cell_type": "markdown",
   "metadata": {},
   "source": [
    "You can access the default system microphone by creating an instance of the Microphone class. If your system has no default microphone (such as on a RaspberryPi), or if you want to use a microphone other than the default, you will need to specify which one to use by supplying a device index (`mic = sr.Microphone(device_index=3)`).\n",
    "\n",
    "You can capture input from the microphone using the listen() method of the Recognizer class inside of the with block. This method takes an audio source as its first argument and records input from the source until silence is detected.\n",
    "\n",
    "Try speaking \"hello\" into your microphone. Wait a moment for the interpreter prompt to display again, then execute the recognize statement. Maybe try some other words, like \"f*** you\". Seems like Google is very polite. And maybe try to transcribe a complete sentence?"
   ]
  },
  {
   "cell_type": "code",
   "execution_count": null,
   "metadata": {},
   "outputs": [],
   "source": [
    "import speech_recognition as sr\n",
    "r = sr.Recognizer()\n",
    "mic = sr.Microphone()\n",
    "\n",
    "with mic as source:\n",
    "    audio = r.listen(source)"
   ]
  },
  {
   "cell_type": "code",
   "execution_count": null,
   "metadata": {},
   "outputs": [],
   "source": [
    "r.recognize_google(audio)"
   ]
  },
  {
   "cell_type": "markdown",
   "metadata": {},
   "source": [
    "If the prompt never returns, your microphone is most likely picking up too much ambient noise. As you know, you’ll need to use the adjust_for_ambient_noise() method.  Since input from a microphone is far less predictable than input from an audio file, it is a good idea to do this anytime you listen for microphone input. And also the try and except blocks are a good idea."
   ]
  },
  {
   "cell_type": "code",
   "execution_count": null,
   "metadata": {},
   "outputs": [],
   "source": [
    "import speech_recognition as sr\n",
    "r = sr.Recognizer()\n",
    "mic = sr.Microphone()\n",
    "\n",
    "with mic as source:\n",
    "    r.adjust_for_ambient_noise(source)\n",
    "    audio = r.listen(source)\n",
    "    \n",
    "try:\n",
    "    print(r.recognize_google(audio))\n",
    "except sr.RequestError:\n",
    "    print(\"API was unreachable or unresponsive\")\n",
    "except sr.UnknownValueError:\n",
    "    print(\"Unable to recognize speech\")"
   ]
  },
  {
   "cell_type": "markdown",
   "metadata": {},
   "source": [
    "## 6. Putting It All Together: A \"Guess the Word\" Game\n",
    "\n",
    "Now that you’ve seen the basics of recognizing speech with the SpeechRecognition package let’s put your newfound knowledge to use and write a small game that picks a random word from a list and gives the user three attempts to guess the word.\n",
    "\n",
    "Here is the full code (try to understand the code, this shouldn't be a problem):"
   ]
  },
  {
   "cell_type": "code",
   "execution_count": null,
   "metadata": {},
   "outputs": [],
   "source": [
    "import random \n",
    "import time\n",
    "\n",
    "import speech_recognition as sr\n",
    "\n",
    "\n",
    "def recognize_speech_from_mic(recognizer, microphone):\n",
    "    \"\"\"Transcribe speech from recorded from `microphone`.\n",
    "\n",
    "    Returns a dictionary with three keys:\n",
    "    \"success\": a boolean indicating whether or not the API request was\n",
    "               successful\n",
    "    \"error\":   `None` if no error occured, otherwise a string containing\n",
    "               an error message if the API could not be reached or\n",
    "               speech was unrecognizable\n",
    "    \"transcription\": `None` if speech could not be transcribed,\n",
    "               otherwise a string containing the transcribed text\n",
    "    \"\"\"\n",
    "    # check that recognizer and microphone arguments are appropriate type\n",
    "    if not isinstance(recognizer, sr.Recognizer):\n",
    "        raise TypeError(\"`recognizer` must be `Recognizer` instance\")\n",
    "\n",
    "    if not isinstance(microphone, sr.Microphone):\n",
    "        raise TypeError(\"`microphone` must be `Microphone` instance\")\n",
    "\n",
    "    # adjust the recognizer sensitivity to ambient noise and record audio\n",
    "    # from the microphone\n",
    "    with microphone as source:\n",
    "        recognizer.adjust_for_ambient_noise(source)\n",
    "        audio = recognizer.listen(source)\n",
    "\n",
    "    # set up the response object\n",
    "    response = {\n",
    "        \"success\": True,\n",
    "        \"error\": None,\n",
    "        \"transcription\": None\n",
    "    }\n",
    "\n",
    "    # try recognizing the speech in the recording\n",
    "    # if a RequestError or UnknownValueError exception is caught,\n",
    "    #     update the response object accordingly\n",
    "    try:\n",
    "        response[\"transcription\"] = recognizer.recognize_google(audio)\n",
    "    except sr.RequestError:\n",
    "        # API was unreachable or unresponsive\n",
    "        response[\"success\"] = False\n",
    "        response[\"error\"] = \"API unavailable\"\n",
    "    except sr.UnknownValueError:\n",
    "        # speech was unintelligible\n",
    "        response[\"error\"] = \"Unable to recognize speech\"\n",
    "\n",
    "    return response\n",
    "\n",
    "\n",
    "if __name__ == \"__main__\":\n",
    "    # set the list of words, maxnumber of guesses, and prompt limit\n",
    "    WORDS = [\"apple\", \"banana\", \"grape\", \"orange\", \"mango\", \"lemon\"]\n",
    "    NUM_GUESSES = 3\n",
    "    PROMPT_LIMIT = 5\n",
    "\n",
    "    # create recognizer and mic instances\n",
    "    recognizer = sr.Recognizer()\n",
    "    microphone = sr.Microphone()\n",
    "\n",
    "    # get a random word from the list\n",
    "    word = random.choice(WORDS)\n",
    "\n",
    "    # format the instructions string\n",
    "    instructions = (\n",
    "        \"I'm thinking of one of these words:\\n\"\n",
    "        \"{words}\\n\"\n",
    "        \"You have {n} tries to guess which one.\\n\"\n",
    "    ).format(words=', '.join(WORDS), n=NUM_GUESSES)\n",
    "\n",
    "    # show instructions and wait 3 seconds before starting the game\n",
    "    print(instructions)\n",
    "    time.sleep(3)\n",
    "\n",
    "    for i in range(NUM_GUESSES):\n",
    "        # get the guess from the user\n",
    "        # if a transcription is returned, break out of the loop and\n",
    "        #     continue\n",
    "        # if no transcription returned and API request failed, break\n",
    "        #     loop and continue\n",
    "        # if API request succeeded but no transcription was returned,\n",
    "        #     re-prompt the user to say their guess again. Do this up\n",
    "        #     to PROMPT_LIMIT times\n",
    "        for j in range(PROMPT_LIMIT):\n",
    "            print('Guess {}. Speak!'.format(i+1))\n",
    "            guess = recognize_speech_from_mic(recognizer, microphone)\n",
    "            if guess[\"transcription\"]:\n",
    "                break\n",
    "            if not guess[\"success\"]:\n",
    "                break\n",
    "            print(\"I didn't catch that. What did you say?\\n\")\n",
    "\n",
    "        # if there was an error, stop the game\n",
    "        if guess[\"error\"]:\n",
    "            print(\"ERROR: {}\".format(guess[\"error\"]))\n",
    "            break\n",
    "\n",
    "        # show the user the transcription\n",
    "        print(\"You said: {}\".format(guess[\"transcription\"]))\n",
    "\n",
    "        # determine if guess is correct and if any attempts remain\n",
    "        guess_is_correct = guess[\"transcription\"].lower() == word.lower()\n",
    "        user_has_more_attempts = i < NUM_GUESSES - 1\n",
    "\n",
    "        # determine if the user has won the game\n",
    "        # if not, repeat the loop if user has more attempts\n",
    "        # if no attempts left, the user loses the game\n",
    "        if guess_is_correct:\n",
    "            print(\"Correct! You win!\".format(word))\n",
    "            break\n",
    "        elif user_has_more_attempts:\n",
    "            print(\"Incorrect. Try again.\\n\")\n",
    "        else:\n",
    "            print(\"Sorry, you lose!\\nI was thinking of '{}'.\".format(word))\n",
    "            break"
   ]
  },
  {
   "cell_type": "markdown",
   "metadata": {},
   "source": [
    "## 7. Recognizing Speech in languages other than English - Exercise\n",
    "\n",
    "Throughout this Notebook, we’ve been recognizing speech in English, which is the default language for each recognize_*() method of the SpeechRecognition package. However, it is absolutely possible to recognize speech in other languages, and this is quite simple to accomplish.\n",
    "\n",
    "To recognize speech in a different language, set the __language__ keyword argument of the recognize_*() method to a string corresponding to the desired language. Most of the methods accept a BCP-47 language tag, such as 'en-US' for American English, 'fr-FR' for French or __'nl-NL'__ for Dutch.\n",
    "\n",
    "Try to use the microphone to transcribe a Dutch (or other language) sentence."
   ]
  },
  {
   "cell_type": "code",
   "execution_count": null,
   "metadata": {},
   "outputs": [],
   "source": [
    "\n",
    "\n"
   ]
  }
 ],
 "metadata": {
  "kernelspec": {
   "display_name": "Python 3",
   "language": "python",
   "name": "python3"
  },
  "language_info": {
   "codemirror_mode": {
    "name": "ipython",
    "version": 3
   },
   "file_extension": ".py",
   "mimetype": "text/x-python",
   "name": "python",
   "nbconvert_exporter": "python",
   "pygments_lexer": "ipython3",
   "version": "3.7.3"
  }
 },
 "nbformat": 4,
 "nbformat_minor": 2
}
